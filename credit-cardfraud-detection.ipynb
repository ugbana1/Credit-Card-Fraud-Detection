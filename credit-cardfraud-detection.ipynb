{
 "cells": [
  {
   "cell_type": "code",
   "execution_count": 1,
   "id": "9fd5b6c4",
   "metadata": {
    "_cell_guid": "b1076dfc-b9ad-4769-8c92-a6c4dae69d19",
    "_uuid": "8f2839f25d086af736a60e9eeb907d3b93b6e0e5",
    "execution": {
     "iopub.execute_input": "2023-11-25T21:08:46.123268Z",
     "iopub.status.busy": "2023-11-25T21:08:46.122890Z",
     "iopub.status.idle": "2023-11-25T21:08:46.866996Z",
     "shell.execute_reply": "2023-11-25T21:08:46.865907Z"
    },
    "papermill": {
     "duration": 0.756207,
     "end_time": "2023-11-25T21:08:46.869082",
     "exception": false,
     "start_time": "2023-11-25T21:08:46.112875",
     "status": "completed"
    },
    "tags": []
   },
   "outputs": [
    {
     "name": "stdout",
     "output_type": "stream",
     "text": [
      "/kaggle/input/credit-card-fraud-detection-dataset-2023/creditcard_2023.csv\n"
     ]
    }
   ],
   "source": [
    "# This Python 3 environment comes with many helpful analytics libraries installed\n",
    "# It is defined by the kaggle/python Docker image: https://github.com/kaggle/docker-python\n",
    "# For example, here's several helpful packages to load\n",
    "\n",
    "import numpy as np # linear algebra\n",
    "import pandas as pd # data processing, CSV file I/O (e.g. pd.read_csv)\n",
    "\n",
    "# Input data files are available in the read-only \"../input/\" directory\n",
    "# For example, running this (by clicking run or pressing Shift+Enter) will list all files under the input directory\n",
    "\n",
    "import os\n",
    "for dirname, _, filenames in os.walk('/kaggle/input'):\n",
    "    for filename in filenames:\n",
    "        print(os.path.join(dirname, filename))\n",
    "\n",
    "# You can write up to 20GB to the current directory (/kaggle/working/) that gets preserved as output when you create a version using \"Save & Run All\" \n",
    "# You can also write temporary files to /kaggle/temp/, but they won't be saved outside of the current session"
   ]
  },
  {
   "cell_type": "markdown",
   "id": "b3e2fa14",
   "metadata": {
    "papermill": {
     "duration": 0.007752,
     "end_time": "2023-11-25T21:08:46.885410",
     "exception": false,
     "start_time": "2023-11-25T21:08:46.877658",
     "status": "completed"
    },
    "tags": []
   },
   "source": [
    "## Let us read the DataFrame using pandas"
   ]
  },
  {
   "cell_type": "code",
   "execution_count": 2,
   "id": "9557a26e",
   "metadata": {
    "execution": {
     "iopub.execute_input": "2023-11-25T21:08:46.903226Z",
     "iopub.status.busy": "2023-11-25T21:08:46.902770Z",
     "iopub.status.idle": "2023-11-25T21:08:54.311194Z",
     "shell.execute_reply": "2023-11-25T21:08:54.310116Z"
    },
    "papermill": {
     "duration": 7.420047,
     "end_time": "2023-11-25T21:08:54.313628",
     "exception": false,
     "start_time": "2023-11-25T21:08:46.893581",
     "status": "completed"
    },
    "tags": []
   },
   "outputs": [
    {
     "data": {
      "text/html": [
       "<div>\n",
       "<style scoped>\n",
       "    .dataframe tbody tr th:only-of-type {\n",
       "        vertical-align: middle;\n",
       "    }\n",
       "\n",
       "    .dataframe tbody tr th {\n",
       "        vertical-align: top;\n",
       "    }\n",
       "\n",
       "    .dataframe thead th {\n",
       "        text-align: right;\n",
       "    }\n",
       "</style>\n",
       "<table border=\"1\" class=\"dataframe\">\n",
       "  <thead>\n",
       "    <tr style=\"text-align: right;\">\n",
       "      <th></th>\n",
       "      <th>id</th>\n",
       "      <th>V1</th>\n",
       "      <th>V2</th>\n",
       "      <th>V3</th>\n",
       "      <th>V4</th>\n",
       "      <th>V5</th>\n",
       "      <th>V6</th>\n",
       "      <th>V7</th>\n",
       "      <th>V8</th>\n",
       "      <th>V9</th>\n",
       "      <th>...</th>\n",
       "      <th>V21</th>\n",
       "      <th>V22</th>\n",
       "      <th>V23</th>\n",
       "      <th>V24</th>\n",
       "      <th>V25</th>\n",
       "      <th>V26</th>\n",
       "      <th>V27</th>\n",
       "      <th>V28</th>\n",
       "      <th>Amount</th>\n",
       "      <th>Class</th>\n",
       "    </tr>\n",
       "  </thead>\n",
       "  <tbody>\n",
       "    <tr>\n",
       "      <th>0</th>\n",
       "      <td>0</td>\n",
       "      <td>-0.260648</td>\n",
       "      <td>-0.469648</td>\n",
       "      <td>2.496266</td>\n",
       "      <td>-0.083724</td>\n",
       "      <td>0.129681</td>\n",
       "      <td>0.732898</td>\n",
       "      <td>0.519014</td>\n",
       "      <td>-0.130006</td>\n",
       "      <td>0.727159</td>\n",
       "      <td>...</td>\n",
       "      <td>-0.110552</td>\n",
       "      <td>0.217606</td>\n",
       "      <td>-0.134794</td>\n",
       "      <td>0.165959</td>\n",
       "      <td>0.126280</td>\n",
       "      <td>-0.434824</td>\n",
       "      <td>-0.081230</td>\n",
       "      <td>-0.151045</td>\n",
       "      <td>17982.10</td>\n",
       "      <td>0</td>\n",
       "    </tr>\n",
       "    <tr>\n",
       "      <th>1</th>\n",
       "      <td>1</td>\n",
       "      <td>0.985100</td>\n",
       "      <td>-0.356045</td>\n",
       "      <td>0.558056</td>\n",
       "      <td>-0.429654</td>\n",
       "      <td>0.277140</td>\n",
       "      <td>0.428605</td>\n",
       "      <td>0.406466</td>\n",
       "      <td>-0.133118</td>\n",
       "      <td>0.347452</td>\n",
       "      <td>...</td>\n",
       "      <td>-0.194936</td>\n",
       "      <td>-0.605761</td>\n",
       "      <td>0.079469</td>\n",
       "      <td>-0.577395</td>\n",
       "      <td>0.190090</td>\n",
       "      <td>0.296503</td>\n",
       "      <td>-0.248052</td>\n",
       "      <td>-0.064512</td>\n",
       "      <td>6531.37</td>\n",
       "      <td>0</td>\n",
       "    </tr>\n",
       "    <tr>\n",
       "      <th>2</th>\n",
       "      <td>2</td>\n",
       "      <td>-0.260272</td>\n",
       "      <td>-0.949385</td>\n",
       "      <td>1.728538</td>\n",
       "      <td>-0.457986</td>\n",
       "      <td>0.074062</td>\n",
       "      <td>1.419481</td>\n",
       "      <td>0.743511</td>\n",
       "      <td>-0.095576</td>\n",
       "      <td>-0.261297</td>\n",
       "      <td>...</td>\n",
       "      <td>-0.005020</td>\n",
       "      <td>0.702906</td>\n",
       "      <td>0.945045</td>\n",
       "      <td>-1.154666</td>\n",
       "      <td>-0.605564</td>\n",
       "      <td>-0.312895</td>\n",
       "      <td>-0.300258</td>\n",
       "      <td>-0.244718</td>\n",
       "      <td>2513.54</td>\n",
       "      <td>0</td>\n",
       "    </tr>\n",
       "    <tr>\n",
       "      <th>3</th>\n",
       "      <td>3</td>\n",
       "      <td>-0.152152</td>\n",
       "      <td>-0.508959</td>\n",
       "      <td>1.746840</td>\n",
       "      <td>-1.090178</td>\n",
       "      <td>0.249486</td>\n",
       "      <td>1.143312</td>\n",
       "      <td>0.518269</td>\n",
       "      <td>-0.065130</td>\n",
       "      <td>-0.205698</td>\n",
       "      <td>...</td>\n",
       "      <td>-0.146927</td>\n",
       "      <td>-0.038212</td>\n",
       "      <td>-0.214048</td>\n",
       "      <td>-1.893131</td>\n",
       "      <td>1.003963</td>\n",
       "      <td>-0.515950</td>\n",
       "      <td>-0.165316</td>\n",
       "      <td>0.048424</td>\n",
       "      <td>5384.44</td>\n",
       "      <td>0</td>\n",
       "    </tr>\n",
       "    <tr>\n",
       "      <th>4</th>\n",
       "      <td>4</td>\n",
       "      <td>-0.206820</td>\n",
       "      <td>-0.165280</td>\n",
       "      <td>1.527053</td>\n",
       "      <td>-0.448293</td>\n",
       "      <td>0.106125</td>\n",
       "      <td>0.530549</td>\n",
       "      <td>0.658849</td>\n",
       "      <td>-0.212660</td>\n",
       "      <td>1.049921</td>\n",
       "      <td>...</td>\n",
       "      <td>-0.106984</td>\n",
       "      <td>0.729727</td>\n",
       "      <td>-0.161666</td>\n",
       "      <td>0.312561</td>\n",
       "      <td>-0.414116</td>\n",
       "      <td>1.071126</td>\n",
       "      <td>0.023712</td>\n",
       "      <td>0.419117</td>\n",
       "      <td>14278.97</td>\n",
       "      <td>0</td>\n",
       "    </tr>\n",
       "  </tbody>\n",
       "</table>\n",
       "<p>5 rows × 31 columns</p>\n",
       "</div>"
      ],
      "text/plain": [
       "   id        V1        V2        V3        V4        V5        V6        V7  \\\n",
       "0   0 -0.260648 -0.469648  2.496266 -0.083724  0.129681  0.732898  0.519014   \n",
       "1   1  0.985100 -0.356045  0.558056 -0.429654  0.277140  0.428605  0.406466   \n",
       "2   2 -0.260272 -0.949385  1.728538 -0.457986  0.074062  1.419481  0.743511   \n",
       "3   3 -0.152152 -0.508959  1.746840 -1.090178  0.249486  1.143312  0.518269   \n",
       "4   4 -0.206820 -0.165280  1.527053 -0.448293  0.106125  0.530549  0.658849   \n",
       "\n",
       "         V8        V9  ...       V21       V22       V23       V24       V25  \\\n",
       "0 -0.130006  0.727159  ... -0.110552  0.217606 -0.134794  0.165959  0.126280   \n",
       "1 -0.133118  0.347452  ... -0.194936 -0.605761  0.079469 -0.577395  0.190090   \n",
       "2 -0.095576 -0.261297  ... -0.005020  0.702906  0.945045 -1.154666 -0.605564   \n",
       "3 -0.065130 -0.205698  ... -0.146927 -0.038212 -0.214048 -1.893131  1.003963   \n",
       "4 -0.212660  1.049921  ... -0.106984  0.729727 -0.161666  0.312561 -0.414116   \n",
       "\n",
       "        V26       V27       V28    Amount  Class  \n",
       "0 -0.434824 -0.081230 -0.151045  17982.10      0  \n",
       "1  0.296503 -0.248052 -0.064512   6531.37      0  \n",
       "2 -0.312895 -0.300258 -0.244718   2513.54      0  \n",
       "3 -0.515950 -0.165316  0.048424   5384.44      0  \n",
       "4  1.071126  0.023712  0.419117  14278.97      0  \n",
       "\n",
       "[5 rows x 31 columns]"
      ]
     },
     "execution_count": 2,
     "metadata": {},
     "output_type": "execute_result"
    }
   ],
   "source": [
    "df =pd.read_csv(\"/kaggle/input/credit-card-fraud-detection-dataset-2023/creditcard_2023.csv\")\n",
    "df.head()"
   ]
  },
  {
   "cell_type": "markdown",
   "id": "9fbfd314",
   "metadata": {
    "papermill": {
     "duration": 0.008766,
     "end_time": "2023-11-25T21:08:54.333138",
     "exception": false,
     "start_time": "2023-11-25T21:08:54.324372",
     "status": "completed"
    },
    "tags": []
   },
   "source": [
    "## Data Wrangling & Visualization"
   ]
  },
  {
   "cell_type": "markdown",
   "id": "ea2af3f5",
   "metadata": {
    "papermill": {
     "duration": 0.008189,
     "end_time": "2023-11-25T21:08:54.349778",
     "exception": false,
     "start_time": "2023-11-25T21:08:54.341589",
     "status": "completed"
    },
    "tags": []
   },
   "source": [
    "### Let us carry out the following Operations on the data and more:\n",
    "\n",
    "* i.) Getting information about the Data\n",
    "\n",
    "* ii.) Data Visualization and More"
   ]
  },
  {
   "cell_type": "markdown",
   "id": "25b57f8e",
   "metadata": {
    "papermill": {
     "duration": 0.008234,
     "end_time": "2023-11-25T21:08:54.366420",
     "exception": false,
     "start_time": "2023-11-25T21:08:54.358186",
     "status": "completed"
    },
    "tags": []
   },
   "source": [
    "### Getting Information about the Data"
   ]
  },
  {
   "cell_type": "code",
   "execution_count": 3,
   "id": "6ffdab12",
   "metadata": {
    "execution": {
     "iopub.execute_input": "2023-11-25T21:08:54.385146Z",
     "iopub.status.busy": "2023-11-25T21:08:54.384482Z",
     "iopub.status.idle": "2023-11-25T21:08:55.041191Z",
     "shell.execute_reply": "2023-11-25T21:08:55.040159Z"
    },
    "papermill": {
     "duration": 0.668573,
     "end_time": "2023-11-25T21:08:55.043408",
     "exception": false,
     "start_time": "2023-11-25T21:08:54.374835",
     "status": "completed"
    },
    "tags": []
   },
   "outputs": [
    {
     "data": {
      "text/html": [
       "<div>\n",
       "<style scoped>\n",
       "    .dataframe tbody tr th:only-of-type {\n",
       "        vertical-align: middle;\n",
       "    }\n",
       "\n",
       "    .dataframe tbody tr th {\n",
       "        vertical-align: top;\n",
       "    }\n",
       "\n",
       "    .dataframe thead th {\n",
       "        text-align: right;\n",
       "    }\n",
       "</style>\n",
       "<table border=\"1\" class=\"dataframe\">\n",
       "  <thead>\n",
       "    <tr style=\"text-align: right;\">\n",
       "      <th></th>\n",
       "      <th>id</th>\n",
       "      <th>V1</th>\n",
       "      <th>V2</th>\n",
       "      <th>V3</th>\n",
       "      <th>V4</th>\n",
       "      <th>V5</th>\n",
       "      <th>V6</th>\n",
       "      <th>V7</th>\n",
       "      <th>V8</th>\n",
       "      <th>V9</th>\n",
       "      <th>...</th>\n",
       "      <th>V21</th>\n",
       "      <th>V22</th>\n",
       "      <th>V23</th>\n",
       "      <th>V24</th>\n",
       "      <th>V25</th>\n",
       "      <th>V26</th>\n",
       "      <th>V27</th>\n",
       "      <th>V28</th>\n",
       "      <th>Amount</th>\n",
       "      <th>Class</th>\n",
       "    </tr>\n",
       "  </thead>\n",
       "  <tbody>\n",
       "    <tr>\n",
       "      <th>count</th>\n",
       "      <td>568630.000000</td>\n",
       "      <td>5.686300e+05</td>\n",
       "      <td>5.686300e+05</td>\n",
       "      <td>5.686300e+05</td>\n",
       "      <td>5.686300e+05</td>\n",
       "      <td>5.686300e+05</td>\n",
       "      <td>5.686300e+05</td>\n",
       "      <td>5.686300e+05</td>\n",
       "      <td>5.686300e+05</td>\n",
       "      <td>5.686300e+05</td>\n",
       "      <td>...</td>\n",
       "      <td>5.686300e+05</td>\n",
       "      <td>5.686300e+05</td>\n",
       "      <td>5.686300e+05</td>\n",
       "      <td>5.686300e+05</td>\n",
       "      <td>5.686300e+05</td>\n",
       "      <td>5.686300e+05</td>\n",
       "      <td>5.686300e+05</td>\n",
       "      <td>5.686300e+05</td>\n",
       "      <td>568630.000000</td>\n",
       "      <td>568630.0</td>\n",
       "    </tr>\n",
       "    <tr>\n",
       "      <th>mean</th>\n",
       "      <td>284314.500000</td>\n",
       "      <td>-5.638058e-17</td>\n",
       "      <td>-1.319545e-16</td>\n",
       "      <td>-3.518788e-17</td>\n",
       "      <td>-2.879008e-17</td>\n",
       "      <td>7.997245e-18</td>\n",
       "      <td>-3.958636e-17</td>\n",
       "      <td>-3.198898e-17</td>\n",
       "      <td>2.109273e-17</td>\n",
       "      <td>3.998623e-17</td>\n",
       "      <td>...</td>\n",
       "      <td>4.758361e-17</td>\n",
       "      <td>3.948640e-18</td>\n",
       "      <td>6.194741e-18</td>\n",
       "      <td>-2.799036e-18</td>\n",
       "      <td>-3.178905e-17</td>\n",
       "      <td>-7.497417e-18</td>\n",
       "      <td>-3.598760e-17</td>\n",
       "      <td>2.609101e-17</td>\n",
       "      <td>12041.957635</td>\n",
       "      <td>0.5</td>\n",
       "    </tr>\n",
       "    <tr>\n",
       "      <th>std</th>\n",
       "      <td>164149.486122</td>\n",
       "      <td>1.000001e+00</td>\n",
       "      <td>1.000001e+00</td>\n",
       "      <td>1.000001e+00</td>\n",
       "      <td>1.000001e+00</td>\n",
       "      <td>1.000001e+00</td>\n",
       "      <td>1.000001e+00</td>\n",
       "      <td>1.000001e+00</td>\n",
       "      <td>1.000001e+00</td>\n",
       "      <td>1.000001e+00</td>\n",
       "      <td>...</td>\n",
       "      <td>1.000001e+00</td>\n",
       "      <td>1.000001e+00</td>\n",
       "      <td>1.000001e+00</td>\n",
       "      <td>1.000001e+00</td>\n",
       "      <td>1.000001e+00</td>\n",
       "      <td>1.000001e+00</td>\n",
       "      <td>1.000001e+00</td>\n",
       "      <td>1.000001e+00</td>\n",
       "      <td>6919.644449</td>\n",
       "      <td>0.5</td>\n",
       "    </tr>\n",
       "    <tr>\n",
       "      <th>min</th>\n",
       "      <td>0.000000</td>\n",
       "      <td>-3.495584e+00</td>\n",
       "      <td>-4.996657e+01</td>\n",
       "      <td>-3.183760e+00</td>\n",
       "      <td>-4.951222e+00</td>\n",
       "      <td>-9.952786e+00</td>\n",
       "      <td>-2.111111e+01</td>\n",
       "      <td>-4.351839e+00</td>\n",
       "      <td>-1.075634e+01</td>\n",
       "      <td>-3.751919e+00</td>\n",
       "      <td>...</td>\n",
       "      <td>-1.938252e+01</td>\n",
       "      <td>-7.734798e+00</td>\n",
       "      <td>-3.029545e+01</td>\n",
       "      <td>-4.067968e+00</td>\n",
       "      <td>-1.361263e+01</td>\n",
       "      <td>-8.226969e+00</td>\n",
       "      <td>-1.049863e+01</td>\n",
       "      <td>-3.903524e+01</td>\n",
       "      <td>50.010000</td>\n",
       "      <td>0.0</td>\n",
       "    </tr>\n",
       "    <tr>\n",
       "      <th>25%</th>\n",
       "      <td>142157.250000</td>\n",
       "      <td>-5.652859e-01</td>\n",
       "      <td>-4.866777e-01</td>\n",
       "      <td>-6.492987e-01</td>\n",
       "      <td>-6.560203e-01</td>\n",
       "      <td>-2.934955e-01</td>\n",
       "      <td>-4.458712e-01</td>\n",
       "      <td>-2.835329e-01</td>\n",
       "      <td>-1.922572e-01</td>\n",
       "      <td>-5.687446e-01</td>\n",
       "      <td>...</td>\n",
       "      <td>-1.664408e-01</td>\n",
       "      <td>-4.904892e-01</td>\n",
       "      <td>-2.376289e-01</td>\n",
       "      <td>-6.515801e-01</td>\n",
       "      <td>-5.541485e-01</td>\n",
       "      <td>-6.318948e-01</td>\n",
       "      <td>-3.049607e-01</td>\n",
       "      <td>-2.318783e-01</td>\n",
       "      <td>6054.892500</td>\n",
       "      <td>0.0</td>\n",
       "    </tr>\n",
       "    <tr>\n",
       "      <th>50%</th>\n",
       "      <td>284314.500000</td>\n",
       "      <td>-9.363846e-02</td>\n",
       "      <td>-1.358939e-01</td>\n",
       "      <td>3.528579e-04</td>\n",
       "      <td>-7.376152e-02</td>\n",
       "      <td>8.108788e-02</td>\n",
       "      <td>7.871758e-02</td>\n",
       "      <td>2.333659e-01</td>\n",
       "      <td>-1.145242e-01</td>\n",
       "      <td>9.252647e-02</td>\n",
       "      <td>...</td>\n",
       "      <td>-3.743065e-02</td>\n",
       "      <td>-2.732881e-02</td>\n",
       "      <td>-5.968903e-02</td>\n",
       "      <td>1.590123e-02</td>\n",
       "      <td>-8.193162e-03</td>\n",
       "      <td>-1.189208e-02</td>\n",
       "      <td>-1.729111e-01</td>\n",
       "      <td>-1.392973e-02</td>\n",
       "      <td>12030.150000</td>\n",
       "      <td>0.5</td>\n",
       "    </tr>\n",
       "    <tr>\n",
       "      <th>75%</th>\n",
       "      <td>426471.750000</td>\n",
       "      <td>8.326582e-01</td>\n",
       "      <td>3.435552e-01</td>\n",
       "      <td>6.285380e-01</td>\n",
       "      <td>7.070047e-01</td>\n",
       "      <td>4.397368e-01</td>\n",
       "      <td>4.977881e-01</td>\n",
       "      <td>5.259548e-01</td>\n",
       "      <td>4.729905e-02</td>\n",
       "      <td>5.592621e-01</td>\n",
       "      <td>...</td>\n",
       "      <td>1.479787e-01</td>\n",
       "      <td>4.638817e-01</td>\n",
       "      <td>1.557153e-01</td>\n",
       "      <td>7.007374e-01</td>\n",
       "      <td>5.500147e-01</td>\n",
       "      <td>6.728879e-01</td>\n",
       "      <td>3.340230e-01</td>\n",
       "      <td>4.095903e-01</td>\n",
       "      <td>18036.330000</td>\n",
       "      <td>1.0</td>\n",
       "    </tr>\n",
       "    <tr>\n",
       "      <th>max</th>\n",
       "      <td>568629.000000</td>\n",
       "      <td>2.229046e+00</td>\n",
       "      <td>4.361865e+00</td>\n",
       "      <td>1.412583e+01</td>\n",
       "      <td>3.201536e+00</td>\n",
       "      <td>4.271689e+01</td>\n",
       "      <td>2.616840e+01</td>\n",
       "      <td>2.178730e+02</td>\n",
       "      <td>5.958040e+00</td>\n",
       "      <td>2.027006e+01</td>\n",
       "      <td>...</td>\n",
       "      <td>8.087080e+00</td>\n",
       "      <td>1.263251e+01</td>\n",
       "      <td>3.170763e+01</td>\n",
       "      <td>1.296564e+01</td>\n",
       "      <td>1.462151e+01</td>\n",
       "      <td>5.623285e+00</td>\n",
       "      <td>1.132311e+02</td>\n",
       "      <td>7.725594e+01</td>\n",
       "      <td>24039.930000</td>\n",
       "      <td>1.0</td>\n",
       "    </tr>\n",
       "  </tbody>\n",
       "</table>\n",
       "<p>8 rows × 31 columns</p>\n",
       "</div>"
      ],
      "text/plain": [
       "                  id            V1            V2            V3            V4  \\\n",
       "count  568630.000000  5.686300e+05  5.686300e+05  5.686300e+05  5.686300e+05   \n",
       "mean   284314.500000 -5.638058e-17 -1.319545e-16 -3.518788e-17 -2.879008e-17   \n",
       "std    164149.486122  1.000001e+00  1.000001e+00  1.000001e+00  1.000001e+00   \n",
       "min         0.000000 -3.495584e+00 -4.996657e+01 -3.183760e+00 -4.951222e+00   \n",
       "25%    142157.250000 -5.652859e-01 -4.866777e-01 -6.492987e-01 -6.560203e-01   \n",
       "50%    284314.500000 -9.363846e-02 -1.358939e-01  3.528579e-04 -7.376152e-02   \n",
       "75%    426471.750000  8.326582e-01  3.435552e-01  6.285380e-01  7.070047e-01   \n",
       "max    568629.000000  2.229046e+00  4.361865e+00  1.412583e+01  3.201536e+00   \n",
       "\n",
       "                 V5            V6            V7            V8            V9  \\\n",
       "count  5.686300e+05  5.686300e+05  5.686300e+05  5.686300e+05  5.686300e+05   \n",
       "mean   7.997245e-18 -3.958636e-17 -3.198898e-17  2.109273e-17  3.998623e-17   \n",
       "std    1.000001e+00  1.000001e+00  1.000001e+00  1.000001e+00  1.000001e+00   \n",
       "min   -9.952786e+00 -2.111111e+01 -4.351839e+00 -1.075634e+01 -3.751919e+00   \n",
       "25%   -2.934955e-01 -4.458712e-01 -2.835329e-01 -1.922572e-01 -5.687446e-01   \n",
       "50%    8.108788e-02  7.871758e-02  2.333659e-01 -1.145242e-01  9.252647e-02   \n",
       "75%    4.397368e-01  4.977881e-01  5.259548e-01  4.729905e-02  5.592621e-01   \n",
       "max    4.271689e+01  2.616840e+01  2.178730e+02  5.958040e+00  2.027006e+01   \n",
       "\n",
       "       ...           V21           V22           V23           V24  \\\n",
       "count  ...  5.686300e+05  5.686300e+05  5.686300e+05  5.686300e+05   \n",
       "mean   ...  4.758361e-17  3.948640e-18  6.194741e-18 -2.799036e-18   \n",
       "std    ...  1.000001e+00  1.000001e+00  1.000001e+00  1.000001e+00   \n",
       "min    ... -1.938252e+01 -7.734798e+00 -3.029545e+01 -4.067968e+00   \n",
       "25%    ... -1.664408e-01 -4.904892e-01 -2.376289e-01 -6.515801e-01   \n",
       "50%    ... -3.743065e-02 -2.732881e-02 -5.968903e-02  1.590123e-02   \n",
       "75%    ...  1.479787e-01  4.638817e-01  1.557153e-01  7.007374e-01   \n",
       "max    ...  8.087080e+00  1.263251e+01  3.170763e+01  1.296564e+01   \n",
       "\n",
       "                V25           V26           V27           V28         Amount  \\\n",
       "count  5.686300e+05  5.686300e+05  5.686300e+05  5.686300e+05  568630.000000   \n",
       "mean  -3.178905e-17 -7.497417e-18 -3.598760e-17  2.609101e-17   12041.957635   \n",
       "std    1.000001e+00  1.000001e+00  1.000001e+00  1.000001e+00    6919.644449   \n",
       "min   -1.361263e+01 -8.226969e+00 -1.049863e+01 -3.903524e+01      50.010000   \n",
       "25%   -5.541485e-01 -6.318948e-01 -3.049607e-01 -2.318783e-01    6054.892500   \n",
       "50%   -8.193162e-03 -1.189208e-02 -1.729111e-01 -1.392973e-02   12030.150000   \n",
       "75%    5.500147e-01  6.728879e-01  3.340230e-01  4.095903e-01   18036.330000   \n",
       "max    1.462151e+01  5.623285e+00  1.132311e+02  7.725594e+01   24039.930000   \n",
       "\n",
       "          Class  \n",
       "count  568630.0  \n",
       "mean        0.5  \n",
       "std         0.5  \n",
       "min         0.0  \n",
       "25%         0.0  \n",
       "50%         0.5  \n",
       "75%         1.0  \n",
       "max         1.0  \n",
       "\n",
       "[8 rows x 31 columns]"
      ]
     },
     "execution_count": 3,
     "metadata": {},
     "output_type": "execute_result"
    }
   ],
   "source": [
    "# Describe the Data\n",
    "df.describe()"
   ]
  },
  {
   "cell_type": "code",
   "execution_count": 4,
   "id": "ff95c98c",
   "metadata": {
    "execution": {
     "iopub.execute_input": "2023-11-25T21:08:55.063021Z",
     "iopub.status.busy": "2023-11-25T21:08:55.062715Z",
     "iopub.status.idle": "2023-11-25T21:08:55.108513Z",
     "shell.execute_reply": "2023-11-25T21:08:55.107429Z"
    },
    "papermill": {
     "duration": 0.057812,
     "end_time": "2023-11-25T21:08:55.110913",
     "exception": false,
     "start_time": "2023-11-25T21:08:55.053101",
     "status": "completed"
    },
    "tags": []
   },
   "outputs": [
    {
     "name": "stdout",
     "output_type": "stream",
     "text": [
      "<class 'pandas.core.frame.DataFrame'>\n",
      "RangeIndex: 568630 entries, 0 to 568629\n",
      "Data columns (total 31 columns):\n",
      " #   Column  Non-Null Count   Dtype  \n",
      "---  ------  --------------   -----  \n",
      " 0   id      568630 non-null  int64  \n",
      " 1   V1      568630 non-null  float64\n",
      " 2   V2      568630 non-null  float64\n",
      " 3   V3      568630 non-null  float64\n",
      " 4   V4      568630 non-null  float64\n",
      " 5   V5      568630 non-null  float64\n",
      " 6   V6      568630 non-null  float64\n",
      " 7   V7      568630 non-null  float64\n",
      " 8   V8      568630 non-null  float64\n",
      " 9   V9      568630 non-null  float64\n",
      " 10  V10     568630 non-null  float64\n",
      " 11  V11     568630 non-null  float64\n",
      " 12  V12     568630 non-null  float64\n",
      " 13  V13     568630 non-null  float64\n",
      " 14  V14     568630 non-null  float64\n",
      " 15  V15     568630 non-null  float64\n",
      " 16  V16     568630 non-null  float64\n",
      " 17  V17     568630 non-null  float64\n",
      " 18  V18     568630 non-null  float64\n",
      " 19  V19     568630 non-null  float64\n",
      " 20  V20     568630 non-null  float64\n",
      " 21  V21     568630 non-null  float64\n",
      " 22  V22     568630 non-null  float64\n",
      " 23  V23     568630 non-null  float64\n",
      " 24  V24     568630 non-null  float64\n",
      " 25  V25     568630 non-null  float64\n",
      " 26  V26     568630 non-null  float64\n",
      " 27  V27     568630 non-null  float64\n",
      " 28  V28     568630 non-null  float64\n",
      " 29  Amount  568630 non-null  float64\n",
      " 30  Class   568630 non-null  int64  \n",
      "dtypes: float64(29), int64(2)\n",
      "memory usage: 134.5 MB\n"
     ]
    }
   ],
   "source": [
    "df.info()"
   ]
  },
  {
   "cell_type": "markdown",
   "id": "e4e491b6",
   "metadata": {
    "papermill": {
     "duration": 0.009016,
     "end_time": "2023-11-25T21:08:55.129526",
     "exception": false,
     "start_time": "2023-11-25T21:08:55.120510",
     "status": "completed"
    },
    "tags": []
   },
   "source": [
    "** We can see above that our data has :\n",
    "i.) total value of `568630`\n",
    "\n",
    "ii.) total of `13 Columns` and that features of our dataFrame i.e `V1 to V28` are float64 as well as `Amount` column\n",
    "\n",
    "while our  `class` (i.e the target column) has `int64` dtype"
   ]
  },
  {
   "cell_type": "code",
   "execution_count": 5,
   "id": "a5784fca",
   "metadata": {
    "execution": {
     "iopub.execute_input": "2023-11-25T21:08:55.148869Z",
     "iopub.status.busy": "2023-11-25T21:08:55.148513Z",
     "iopub.status.idle": "2023-11-25T21:08:55.155942Z",
     "shell.execute_reply": "2023-11-25T21:08:55.155042Z"
    },
    "papermill": {
     "duration": 0.01942,
     "end_time": "2023-11-25T21:08:55.157937",
     "exception": false,
     "start_time": "2023-11-25T21:08:55.138517",
     "status": "completed"
    },
    "tags": []
   },
   "outputs": [
    {
     "data": {
      "text/plain": [
       "id          int64\n",
       "V1        float64\n",
       "V2        float64\n",
       "V3        float64\n",
       "V4        float64\n",
       "V5        float64\n",
       "V6        float64\n",
       "V7        float64\n",
       "V8        float64\n",
       "V9        float64\n",
       "V10       float64\n",
       "V11       float64\n",
       "V12       float64\n",
       "V13       float64\n",
       "V14       float64\n",
       "V15       float64\n",
       "V16       float64\n",
       "V17       float64\n",
       "V18       float64\n",
       "V19       float64\n",
       "V20       float64\n",
       "V21       float64\n",
       "V22       float64\n",
       "V23       float64\n",
       "V24       float64\n",
       "V25       float64\n",
       "V26       float64\n",
       "V27       float64\n",
       "V28       float64\n",
       "Amount    float64\n",
       "Class       int64\n",
       "dtype: object"
      ]
     },
     "execution_count": 5,
     "metadata": {},
     "output_type": "execute_result"
    }
   ],
   "source": [
    "df.dtypes"
   ]
  },
  {
   "cell_type": "code",
   "execution_count": 6,
   "id": "50af3bc4",
   "metadata": {
    "execution": {
     "iopub.execute_input": "2023-11-25T21:08:55.177958Z",
     "iopub.status.busy": "2023-11-25T21:08:55.177685Z",
     "iopub.status.idle": "2023-11-25T21:08:55.978277Z",
     "shell.execute_reply": "2023-11-25T21:08:55.977305Z"
    },
    "papermill": {
     "duration": 0.813305,
     "end_time": "2023-11-25T21:08:55.980481",
     "exception": false,
     "start_time": "2023-11-25T21:08:55.167176",
     "status": "completed"
    },
    "tags": []
   },
   "outputs": [
    {
     "data": {
      "text/plain": [
       "id        568630\n",
       "V1        552035\n",
       "V2        552035\n",
       "V3        552035\n",
       "V4        552035\n",
       "V5        552035\n",
       "V6        552035\n",
       "V7        552035\n",
       "V8        552035\n",
       "V9        552035\n",
       "V10       552035\n",
       "V11       552035\n",
       "V12       552035\n",
       "V13       552035\n",
       "V14       552035\n",
       "V15       552035\n",
       "V16       552035\n",
       "V17       552035\n",
       "V18       552035\n",
       "V19       552035\n",
       "V20       552035\n",
       "V21       552035\n",
       "V22       552035\n",
       "V23       552035\n",
       "V24       552035\n",
       "V25       552035\n",
       "V26       552035\n",
       "V27       552035\n",
       "V28       552035\n",
       "Amount    506485\n",
       "Class          2\n",
       "dtype: int64"
      ]
     },
     "execution_count": 6,
     "metadata": {},
     "output_type": "execute_result"
    }
   ],
   "source": [
    "# Various Unique values in our DataFrame\n",
    "df.nunique()"
   ]
  },
  {
   "cell_type": "markdown",
   "id": "f9d8c445",
   "metadata": {
    "papermill": {
     "duration": 0.009529,
     "end_time": "2023-11-25T21:08:55.999606",
     "exception": false,
     "start_time": "2023-11-25T21:08:55.990077",
     "status": "completed"
    },
    "tags": []
   },
   "source": [
    "##  Creating X and Y Data"
   ]
  },
  {
   "cell_type": "code",
   "execution_count": 7,
   "id": "eb755062",
   "metadata": {
    "execution": {
     "iopub.execute_input": "2023-11-25T21:08:56.019805Z",
     "iopub.status.busy": "2023-11-25T21:08:56.019256Z",
     "iopub.status.idle": "2023-11-25T21:08:56.213757Z",
     "shell.execute_reply": "2023-11-25T21:08:56.212789Z"
    },
    "papermill": {
     "duration": 0.207064,
     "end_time": "2023-11-25T21:08:56.216035",
     "exception": false,
     "start_time": "2023-11-25T21:08:56.008971",
     "status": "completed"
    },
    "tags": []
   },
   "outputs": [
    {
     "data": {
      "text/html": [
       "<div>\n",
       "<style scoped>\n",
       "    .dataframe tbody tr th:only-of-type {\n",
       "        vertical-align: middle;\n",
       "    }\n",
       "\n",
       "    .dataframe tbody tr th {\n",
       "        vertical-align: top;\n",
       "    }\n",
       "\n",
       "    .dataframe thead th {\n",
       "        text-align: right;\n",
       "    }\n",
       "</style>\n",
       "<table border=\"1\" class=\"dataframe\">\n",
       "  <thead>\n",
       "    <tr style=\"text-align: right;\">\n",
       "      <th></th>\n",
       "      <th>id</th>\n",
       "      <th>V1</th>\n",
       "      <th>V2</th>\n",
       "      <th>V3</th>\n",
       "      <th>V4</th>\n",
       "      <th>V5</th>\n",
       "      <th>V6</th>\n",
       "      <th>V7</th>\n",
       "      <th>V8</th>\n",
       "      <th>V9</th>\n",
       "      <th>...</th>\n",
       "      <th>V20</th>\n",
       "      <th>V21</th>\n",
       "      <th>V22</th>\n",
       "      <th>V23</th>\n",
       "      <th>V24</th>\n",
       "      <th>V25</th>\n",
       "      <th>V26</th>\n",
       "      <th>V27</th>\n",
       "      <th>V28</th>\n",
       "      <th>Amount</th>\n",
       "    </tr>\n",
       "  </thead>\n",
       "  <tbody>\n",
       "    <tr>\n",
       "      <th>1</th>\n",
       "      <td>1</td>\n",
       "      <td>0.985100</td>\n",
       "      <td>-0.356045</td>\n",
       "      <td>0.558056</td>\n",
       "      <td>-0.429654</td>\n",
       "      <td>0.277140</td>\n",
       "      <td>0.428605</td>\n",
       "      <td>0.406466</td>\n",
       "      <td>-0.133118</td>\n",
       "      <td>0.347452</td>\n",
       "      <td>...</td>\n",
       "      <td>-0.233984</td>\n",
       "      <td>-0.194936</td>\n",
       "      <td>-0.605761</td>\n",
       "      <td>0.079469</td>\n",
       "      <td>-0.577395</td>\n",
       "      <td>0.190090</td>\n",
       "      <td>0.296503</td>\n",
       "      <td>-0.248052</td>\n",
       "      <td>-0.064512</td>\n",
       "      <td>6531.37</td>\n",
       "    </tr>\n",
       "    <tr>\n",
       "      <th>2</th>\n",
       "      <td>2</td>\n",
       "      <td>-0.260272</td>\n",
       "      <td>-0.949385</td>\n",
       "      <td>1.728538</td>\n",
       "      <td>-0.457986</td>\n",
       "      <td>0.074062</td>\n",
       "      <td>1.419481</td>\n",
       "      <td>0.743511</td>\n",
       "      <td>-0.095576</td>\n",
       "      <td>-0.261297</td>\n",
       "      <td>...</td>\n",
       "      <td>0.361652</td>\n",
       "      <td>-0.005020</td>\n",
       "      <td>0.702906</td>\n",
       "      <td>0.945045</td>\n",
       "      <td>-1.154666</td>\n",
       "      <td>-0.605564</td>\n",
       "      <td>-0.312895</td>\n",
       "      <td>-0.300258</td>\n",
       "      <td>-0.244718</td>\n",
       "      <td>2513.54</td>\n",
       "    </tr>\n",
       "    <tr>\n",
       "      <th>3</th>\n",
       "      <td>3</td>\n",
       "      <td>-0.152152</td>\n",
       "      <td>-0.508959</td>\n",
       "      <td>1.746840</td>\n",
       "      <td>-1.090178</td>\n",
       "      <td>0.249486</td>\n",
       "      <td>1.143312</td>\n",
       "      <td>0.518269</td>\n",
       "      <td>-0.065130</td>\n",
       "      <td>-0.205698</td>\n",
       "      <td>...</td>\n",
       "      <td>-0.378223</td>\n",
       "      <td>-0.146927</td>\n",
       "      <td>-0.038212</td>\n",
       "      <td>-0.214048</td>\n",
       "      <td>-1.893131</td>\n",
       "      <td>1.003963</td>\n",
       "      <td>-0.515950</td>\n",
       "      <td>-0.165316</td>\n",
       "      <td>0.048424</td>\n",
       "      <td>5384.44</td>\n",
       "    </tr>\n",
       "    <tr>\n",
       "      <th>4</th>\n",
       "      <td>4</td>\n",
       "      <td>-0.206820</td>\n",
       "      <td>-0.165280</td>\n",
       "      <td>1.527053</td>\n",
       "      <td>-0.448293</td>\n",
       "      <td>0.106125</td>\n",
       "      <td>0.530549</td>\n",
       "      <td>0.658849</td>\n",
       "      <td>-0.212660</td>\n",
       "      <td>1.049921</td>\n",
       "      <td>...</td>\n",
       "      <td>0.247237</td>\n",
       "      <td>-0.106984</td>\n",
       "      <td>0.729727</td>\n",
       "      <td>-0.161666</td>\n",
       "      <td>0.312561</td>\n",
       "      <td>-0.414116</td>\n",
       "      <td>1.071126</td>\n",
       "      <td>0.023712</td>\n",
       "      <td>0.419117</td>\n",
       "      <td>14278.97</td>\n",
       "    </tr>\n",
       "    <tr>\n",
       "      <th>5</th>\n",
       "      <td>5</td>\n",
       "      <td>0.025302</td>\n",
       "      <td>-0.140514</td>\n",
       "      <td>1.191138</td>\n",
       "      <td>-0.707979</td>\n",
       "      <td>0.430490</td>\n",
       "      <td>0.458973</td>\n",
       "      <td>0.611050</td>\n",
       "      <td>-0.092629</td>\n",
       "      <td>0.180811</td>\n",
       "      <td>...</td>\n",
       "      <td>-0.076400</td>\n",
       "      <td>-0.187739</td>\n",
       "      <td>-0.538518</td>\n",
       "      <td>-0.050465</td>\n",
       "      <td>-0.631553</td>\n",
       "      <td>-0.456480</td>\n",
       "      <td>0.252670</td>\n",
       "      <td>0.066681</td>\n",
       "      <td>0.095812</td>\n",
       "      <td>6901.49</td>\n",
       "    </tr>\n",
       "    <tr>\n",
       "      <th>...</th>\n",
       "      <td>...</td>\n",
       "      <td>...</td>\n",
       "      <td>...</td>\n",
       "      <td>...</td>\n",
       "      <td>...</td>\n",
       "      <td>...</td>\n",
       "      <td>...</td>\n",
       "      <td>...</td>\n",
       "      <td>...</td>\n",
       "      <td>...</td>\n",
       "      <td>...</td>\n",
       "      <td>...</td>\n",
       "      <td>...</td>\n",
       "      <td>...</td>\n",
       "      <td>...</td>\n",
       "      <td>...</td>\n",
       "      <td>...</td>\n",
       "      <td>...</td>\n",
       "      <td>...</td>\n",
       "      <td>...</td>\n",
       "      <td>...</td>\n",
       "    </tr>\n",
       "    <tr>\n",
       "      <th>568625</th>\n",
       "      <td>568625</td>\n",
       "      <td>-0.833437</td>\n",
       "      <td>0.061886</td>\n",
       "      <td>-0.899794</td>\n",
       "      <td>0.904227</td>\n",
       "      <td>-1.002401</td>\n",
       "      <td>0.481454</td>\n",
       "      <td>-0.370393</td>\n",
       "      <td>0.189694</td>\n",
       "      <td>-0.938153</td>\n",
       "      <td>...</td>\n",
       "      <td>-0.751011</td>\n",
       "      <td>0.167503</td>\n",
       "      <td>0.419731</td>\n",
       "      <td>1.288249</td>\n",
       "      <td>-0.900861</td>\n",
       "      <td>0.560661</td>\n",
       "      <td>-0.006018</td>\n",
       "      <td>3.308968</td>\n",
       "      <td>0.081564</td>\n",
       "      <td>4394.16</td>\n",
       "    </tr>\n",
       "    <tr>\n",
       "      <th>568626</th>\n",
       "      <td>568626</td>\n",
       "      <td>-0.670459</td>\n",
       "      <td>-0.202896</td>\n",
       "      <td>-0.068129</td>\n",
       "      <td>-0.267328</td>\n",
       "      <td>-0.133660</td>\n",
       "      <td>0.237148</td>\n",
       "      <td>-0.016935</td>\n",
       "      <td>-0.147733</td>\n",
       "      <td>0.483894</td>\n",
       "      <td>...</td>\n",
       "      <td>-0.550260</td>\n",
       "      <td>0.031874</td>\n",
       "      <td>0.388161</td>\n",
       "      <td>-0.154257</td>\n",
       "      <td>-0.846452</td>\n",
       "      <td>-0.153443</td>\n",
       "      <td>1.961398</td>\n",
       "      <td>-1.528642</td>\n",
       "      <td>1.704306</td>\n",
       "      <td>4653.40</td>\n",
       "    </tr>\n",
       "    <tr>\n",
       "      <th>568627</th>\n",
       "      <td>568627</td>\n",
       "      <td>-0.311997</td>\n",
       "      <td>-0.004095</td>\n",
       "      <td>0.137526</td>\n",
       "      <td>-0.035893</td>\n",
       "      <td>-0.042291</td>\n",
       "      <td>0.121098</td>\n",
       "      <td>-0.070958</td>\n",
       "      <td>-0.019997</td>\n",
       "      <td>-0.122048</td>\n",
       "      <td>...</td>\n",
       "      <td>-0.076417</td>\n",
       "      <td>0.140788</td>\n",
       "      <td>0.536523</td>\n",
       "      <td>-0.211100</td>\n",
       "      <td>-0.448909</td>\n",
       "      <td>0.540073</td>\n",
       "      <td>-0.755836</td>\n",
       "      <td>-0.487540</td>\n",
       "      <td>-0.268741</td>\n",
       "      <td>23572.85</td>\n",
       "    </tr>\n",
       "    <tr>\n",
       "      <th>568628</th>\n",
       "      <td>568628</td>\n",
       "      <td>0.636871</td>\n",
       "      <td>-0.516970</td>\n",
       "      <td>-0.300889</td>\n",
       "      <td>-0.144480</td>\n",
       "      <td>0.131042</td>\n",
       "      <td>-0.294148</td>\n",
       "      <td>0.580568</td>\n",
       "      <td>-0.207723</td>\n",
       "      <td>0.893527</td>\n",
       "      <td>...</td>\n",
       "      <td>0.288186</td>\n",
       "      <td>-0.060381</td>\n",
       "      <td>-0.195609</td>\n",
       "      <td>-0.175488</td>\n",
       "      <td>-0.554643</td>\n",
       "      <td>-0.099669</td>\n",
       "      <td>-1.434931</td>\n",
       "      <td>-0.159269</td>\n",
       "      <td>-0.076251</td>\n",
       "      <td>10160.83</td>\n",
       "    </tr>\n",
       "    <tr>\n",
       "      <th>568629</th>\n",
       "      <td>568629</td>\n",
       "      <td>-0.795144</td>\n",
       "      <td>0.433236</td>\n",
       "      <td>-0.649140</td>\n",
       "      <td>0.374732</td>\n",
       "      <td>-0.244976</td>\n",
       "      <td>-0.603493</td>\n",
       "      <td>-0.347613</td>\n",
       "      <td>-0.340814</td>\n",
       "      <td>0.253971</td>\n",
       "      <td>...</td>\n",
       "      <td>-0.621378</td>\n",
       "      <td>0.534853</td>\n",
       "      <td>-0.291514</td>\n",
       "      <td>0.157303</td>\n",
       "      <td>0.931030</td>\n",
       "      <td>-0.349423</td>\n",
       "      <td>-1.090974</td>\n",
       "      <td>-1.575113</td>\n",
       "      <td>0.722936</td>\n",
       "      <td>21493.92</td>\n",
       "    </tr>\n",
       "  </tbody>\n",
       "</table>\n",
       "<p>568629 rows × 30 columns</p>\n",
       "</div>"
      ],
      "text/plain": [
       "            id        V1        V2        V3        V4        V5        V6  \\\n",
       "1            1  0.985100 -0.356045  0.558056 -0.429654  0.277140  0.428605   \n",
       "2            2 -0.260272 -0.949385  1.728538 -0.457986  0.074062  1.419481   \n",
       "3            3 -0.152152 -0.508959  1.746840 -1.090178  0.249486  1.143312   \n",
       "4            4 -0.206820 -0.165280  1.527053 -0.448293  0.106125  0.530549   \n",
       "5            5  0.025302 -0.140514  1.191138 -0.707979  0.430490  0.458973   \n",
       "...        ...       ...       ...       ...       ...       ...       ...   \n",
       "568625  568625 -0.833437  0.061886 -0.899794  0.904227 -1.002401  0.481454   \n",
       "568626  568626 -0.670459 -0.202896 -0.068129 -0.267328 -0.133660  0.237148   \n",
       "568627  568627 -0.311997 -0.004095  0.137526 -0.035893 -0.042291  0.121098   \n",
       "568628  568628  0.636871 -0.516970 -0.300889 -0.144480  0.131042 -0.294148   \n",
       "568629  568629 -0.795144  0.433236 -0.649140  0.374732 -0.244976 -0.603493   \n",
       "\n",
       "              V7        V8        V9  ...       V20       V21       V22  \\\n",
       "1       0.406466 -0.133118  0.347452  ... -0.233984 -0.194936 -0.605761   \n",
       "2       0.743511 -0.095576 -0.261297  ...  0.361652 -0.005020  0.702906   \n",
       "3       0.518269 -0.065130 -0.205698  ... -0.378223 -0.146927 -0.038212   \n",
       "4       0.658849 -0.212660  1.049921  ...  0.247237 -0.106984  0.729727   \n",
       "5       0.611050 -0.092629  0.180811  ... -0.076400 -0.187739 -0.538518   \n",
       "...          ...       ...       ...  ...       ...       ...       ...   \n",
       "568625 -0.370393  0.189694 -0.938153  ... -0.751011  0.167503  0.419731   \n",
       "568626 -0.016935 -0.147733  0.483894  ... -0.550260  0.031874  0.388161   \n",
       "568627 -0.070958 -0.019997 -0.122048  ... -0.076417  0.140788  0.536523   \n",
       "568628  0.580568 -0.207723  0.893527  ...  0.288186 -0.060381 -0.195609   \n",
       "568629 -0.347613 -0.340814  0.253971  ... -0.621378  0.534853 -0.291514   \n",
       "\n",
       "             V23       V24       V25       V26       V27       V28    Amount  \n",
       "1       0.079469 -0.577395  0.190090  0.296503 -0.248052 -0.064512   6531.37  \n",
       "2       0.945045 -1.154666 -0.605564 -0.312895 -0.300258 -0.244718   2513.54  \n",
       "3      -0.214048 -1.893131  1.003963 -0.515950 -0.165316  0.048424   5384.44  \n",
       "4      -0.161666  0.312561 -0.414116  1.071126  0.023712  0.419117  14278.97  \n",
       "5      -0.050465 -0.631553 -0.456480  0.252670  0.066681  0.095812   6901.49  \n",
       "...          ...       ...       ...       ...       ...       ...       ...  \n",
       "568625  1.288249 -0.900861  0.560661 -0.006018  3.308968  0.081564   4394.16  \n",
       "568626 -0.154257 -0.846452 -0.153443  1.961398 -1.528642  1.704306   4653.40  \n",
       "568627 -0.211100 -0.448909  0.540073 -0.755836 -0.487540 -0.268741  23572.85  \n",
       "568628 -0.175488 -0.554643 -0.099669 -1.434931 -0.159269 -0.076251  10160.83  \n",
       "568629  0.157303  0.931030 -0.349423 -1.090974 -1.575113  0.722936  21493.92  \n",
       "\n",
       "[568629 rows x 30 columns]"
      ]
     },
     "execution_count": 7,
     "metadata": {},
     "output_type": "execute_result"
    }
   ],
   "source": [
    "X=df.drop(\"Class\",axis=1)\n",
    "y=df[\"Class\"]\n",
    "X[1:]"
   ]
  },
  {
   "cell_type": "code",
   "execution_count": 8,
   "id": "5d8bdafb",
   "metadata": {
    "execution": {
     "iopub.execute_input": "2023-11-25T21:08:56.237463Z",
     "iopub.status.busy": "2023-11-25T21:08:56.237181Z",
     "iopub.status.idle": "2023-11-25T21:08:57.347650Z",
     "shell.execute_reply": "2023-11-25T21:08:57.346865Z"
    },
    "papermill": {
     "duration": 1.123316,
     "end_time": "2023-11-25T21:08:57.349882",
     "exception": false,
     "start_time": "2023-11-25T21:08:56.226566",
     "status": "completed"
    },
    "tags": []
   },
   "outputs": [
    {
     "name": "stderr",
     "output_type": "stream",
     "text": [
      "/opt/conda/lib/python3.10/site-packages/scipy/__init__.py:146: UserWarning: A NumPy version >=1.16.5 and <1.23.0 is required for this version of SciPy (detected version 1.24.3\n",
      "  warnings.warn(f\"A NumPy version >={np_minversion} and <{np_maxversion}\"\n"
     ]
    },
    {
     "data": {
      "text/html": [
       "<div>\n",
       "<style scoped>\n",
       "    .dataframe tbody tr th:only-of-type {\n",
       "        vertical-align: middle;\n",
       "    }\n",
       "\n",
       "    .dataframe tbody tr th {\n",
       "        vertical-align: top;\n",
       "    }\n",
       "\n",
       "    .dataframe thead th {\n",
       "        text-align: right;\n",
       "    }\n",
       "</style>\n",
       "<table border=\"1\" class=\"dataframe\">\n",
       "  <thead>\n",
       "    <tr style=\"text-align: right;\">\n",
       "      <th></th>\n",
       "      <th>id</th>\n",
       "      <th>V1</th>\n",
       "      <th>V2</th>\n",
       "      <th>V3</th>\n",
       "      <th>V4</th>\n",
       "      <th>V5</th>\n",
       "      <th>V6</th>\n",
       "      <th>V7</th>\n",
       "      <th>V8</th>\n",
       "      <th>V9</th>\n",
       "      <th>...</th>\n",
       "      <th>V20</th>\n",
       "      <th>V21</th>\n",
       "      <th>V22</th>\n",
       "      <th>V23</th>\n",
       "      <th>V24</th>\n",
       "      <th>V25</th>\n",
       "      <th>V26</th>\n",
       "      <th>V27</th>\n",
       "      <th>V28</th>\n",
       "      <th>Amount</th>\n",
       "    </tr>\n",
       "  </thead>\n",
       "  <tbody>\n",
       "    <tr>\n",
       "      <th>373474</th>\n",
       "      <td>373474</td>\n",
       "      <td>0.312289</td>\n",
       "      <td>0.256749</td>\n",
       "      <td>-0.348959</td>\n",
       "      <td>0.804888</td>\n",
       "      <td>0.196888</td>\n",
       "      <td>-0.139495</td>\n",
       "      <td>-0.081428</td>\n",
       "      <td>-0.240777</td>\n",
       "      <td>-0.788505</td>\n",
       "      <td>...</td>\n",
       "      <td>0.422273</td>\n",
       "      <td>-0.098466</td>\n",
       "      <td>-0.106306</td>\n",
       "      <td>-0.259423</td>\n",
       "      <td>-0.537555</td>\n",
       "      <td>1.191314</td>\n",
       "      <td>0.638648</td>\n",
       "      <td>0.508251</td>\n",
       "      <td>0.867163</td>\n",
       "      <td>10182.15</td>\n",
       "    </tr>\n",
       "    <tr>\n",
       "      <th>424048</th>\n",
       "      <td>424048</td>\n",
       "      <td>-0.738924</td>\n",
       "      <td>0.882741</td>\n",
       "      <td>-1.100036</td>\n",
       "      <td>1.183329</td>\n",
       "      <td>-0.584835</td>\n",
       "      <td>-0.626543</td>\n",
       "      <td>-0.632471</td>\n",
       "      <td>0.538635</td>\n",
       "      <td>-0.949273</td>\n",
       "      <td>...</td>\n",
       "      <td>-0.147838</td>\n",
       "      <td>0.322355</td>\n",
       "      <td>0.530422</td>\n",
       "      <td>0.169279</td>\n",
       "      <td>-0.304172</td>\n",
       "      <td>-0.665394</td>\n",
       "      <td>0.207433</td>\n",
       "      <td>-0.132937</td>\n",
       "      <td>-0.949555</td>\n",
       "      <td>12325.14</td>\n",
       "    </tr>\n",
       "    <tr>\n",
       "      <th>409855</th>\n",
       "      <td>409855</td>\n",
       "      <td>-0.277764</td>\n",
       "      <td>0.174947</td>\n",
       "      <td>-0.475947</td>\n",
       "      <td>-0.007279</td>\n",
       "      <td>-0.181876</td>\n",
       "      <td>-0.128142</td>\n",
       "      <td>-0.227282</td>\n",
       "      <td>-0.388552</td>\n",
       "      <td>0.184313</td>\n",
       "      <td>...</td>\n",
       "      <td>0.376360</td>\n",
       "      <td>0.462207</td>\n",
       "      <td>-0.214574</td>\n",
       "      <td>-0.080741</td>\n",
       "      <td>-1.018650</td>\n",
       "      <td>0.036501</td>\n",
       "      <td>0.493731</td>\n",
       "      <td>-0.095556</td>\n",
       "      <td>-0.961754</td>\n",
       "      <td>3066.08</td>\n",
       "    </tr>\n",
       "    <tr>\n",
       "      <th>90244</th>\n",
       "      <td>90244</td>\n",
       "      <td>-0.195993</td>\n",
       "      <td>-0.470999</td>\n",
       "      <td>2.492314</td>\n",
       "      <td>-0.416324</td>\n",
       "      <td>-0.062093</td>\n",
       "      <td>0.642238</td>\n",
       "      <td>0.213857</td>\n",
       "      <td>-0.122787</td>\n",
       "      <td>1.595950</td>\n",
       "      <td>...</td>\n",
       "      <td>-0.353785</td>\n",
       "      <td>-0.096748</td>\n",
       "      <td>0.508039</td>\n",
       "      <td>-0.196086</td>\n",
       "      <td>1.184552</td>\n",
       "      <td>-1.188919</td>\n",
       "      <td>2.114474</td>\n",
       "      <td>-0.591308</td>\n",
       "      <td>0.518468</td>\n",
       "      <td>21745.34</td>\n",
       "    </tr>\n",
       "    <tr>\n",
       "      <th>175414</th>\n",
       "      <td>175414</td>\n",
       "      <td>1.786631</td>\n",
       "      <td>-0.574048</td>\n",
       "      <td>-0.251302</td>\n",
       "      <td>-1.011117</td>\n",
       "      <td>1.518896</td>\n",
       "      <td>2.140143</td>\n",
       "      <td>0.282776</td>\n",
       "      <td>0.034446</td>\n",
       "      <td>0.753873</td>\n",
       "      <td>...</td>\n",
       "      <td>-0.321018</td>\n",
       "      <td>-0.222583</td>\n",
       "      <td>-0.771246</td>\n",
       "      <td>0.371304</td>\n",
       "      <td>1.509223</td>\n",
       "      <td>-0.507466</td>\n",
       "      <td>0.497143</td>\n",
       "      <td>-0.296853</td>\n",
       "      <td>-0.261746</td>\n",
       "      <td>9666.38</td>\n",
       "    </tr>\n",
       "  </tbody>\n",
       "</table>\n",
       "<p>5 rows × 30 columns</p>\n",
       "</div>"
      ],
      "text/plain": [
       "            id        V1        V2        V3        V4        V5        V6  \\\n",
       "373474  373474  0.312289  0.256749 -0.348959  0.804888  0.196888 -0.139495   \n",
       "424048  424048 -0.738924  0.882741 -1.100036  1.183329 -0.584835 -0.626543   \n",
       "409855  409855 -0.277764  0.174947 -0.475947 -0.007279 -0.181876 -0.128142   \n",
       "90244    90244 -0.195993 -0.470999  2.492314 -0.416324 -0.062093  0.642238   \n",
       "175414  175414  1.786631 -0.574048 -0.251302 -1.011117  1.518896  2.140143   \n",
       "\n",
       "              V7        V8        V9  ...       V20       V21       V22  \\\n",
       "373474 -0.081428 -0.240777 -0.788505  ...  0.422273 -0.098466 -0.106306   \n",
       "424048 -0.632471  0.538635 -0.949273  ... -0.147838  0.322355  0.530422   \n",
       "409855 -0.227282 -0.388552  0.184313  ...  0.376360  0.462207 -0.214574   \n",
       "90244   0.213857 -0.122787  1.595950  ... -0.353785 -0.096748  0.508039   \n",
       "175414  0.282776  0.034446  0.753873  ... -0.321018 -0.222583 -0.771246   \n",
       "\n",
       "             V23       V24       V25       V26       V27       V28    Amount  \n",
       "373474 -0.259423 -0.537555  1.191314  0.638648  0.508251  0.867163  10182.15  \n",
       "424048  0.169279 -0.304172 -0.665394  0.207433 -0.132937 -0.949555  12325.14  \n",
       "409855 -0.080741 -1.018650  0.036501  0.493731 -0.095556 -0.961754   3066.08  \n",
       "90244  -0.196086  1.184552 -1.188919  2.114474 -0.591308  0.518468  21745.34  \n",
       "175414  0.371304  1.509223 -0.507466  0.497143 -0.296853 -0.261746   9666.38  \n",
       "\n",
       "[5 rows x 30 columns]"
      ]
     },
     "execution_count": 8,
     "metadata": {},
     "output_type": "execute_result"
    }
   ],
   "source": [
    "np.random.seed(42)\n",
    "from sklearn.model_selection import train_test_split\n",
    "\n",
    "X_train,X_test,y_train,y_test =train_test_split(X,y,test_size=0.2)\n",
    "X_train.head()"
   ]
  },
  {
   "cell_type": "code",
   "execution_count": 9,
   "id": "4b72e95b",
   "metadata": {
    "execution": {
     "iopub.execute_input": "2023-11-25T21:08:57.372777Z",
     "iopub.status.busy": "2023-11-25T21:08:57.372134Z",
     "iopub.status.idle": "2023-11-25T21:08:57.378722Z",
     "shell.execute_reply": "2023-11-25T21:08:57.377874Z"
    },
    "papermill": {
     "duration": 0.019985,
     "end_time": "2023-11-25T21:08:57.380564",
     "exception": false,
     "start_time": "2023-11-25T21:08:57.360579",
     "status": "completed"
    },
    "tags": []
   },
   "outputs": [
    {
     "data": {
      "text/plain": [
       "437378    1\n",
       "504222    1\n",
       "4794      0\n",
       "388411    1\n",
       "424512    1\n",
       "Name: Class, dtype: int64"
      ]
     },
     "execution_count": 9,
     "metadata": {},
     "output_type": "execute_result"
    }
   ],
   "source": [
    "y_test.head()"
   ]
  },
  {
   "cell_type": "markdown",
   "id": "59b75b10",
   "metadata": {
    "papermill": {
     "duration": 0.010099,
     "end_time": "2023-11-25T21:08:57.400926",
     "exception": false,
     "start_time": "2023-11-25T21:08:57.390827",
     "status": "completed"
    },
    "tags": []
   },
   "source": [
    "### Let us Fit our Data to appropriate Model"
   ]
  },
  {
   "cell_type": "code",
   "execution_count": 10,
   "id": "f88fc0b0",
   "metadata": {
    "execution": {
     "iopub.execute_input": "2023-11-25T21:08:57.422848Z",
     "iopub.status.busy": "2023-11-25T21:08:57.422505Z",
     "iopub.status.idle": "2023-11-25T21:08:57.674746Z",
     "shell.execute_reply": "2023-11-25T21:08:57.673668Z"
    },
    "papermill": {
     "duration": 0.265785,
     "end_time": "2023-11-25T21:08:57.677190",
     "exception": false,
     "start_time": "2023-11-25T21:08:57.411405",
     "status": "completed"
    },
    "tags": []
   },
   "outputs": [],
   "source": [
    "from sklearn.ensemble import RandomForestClassifier\n",
    "from sklearn.linear_model import LogisticRegression"
   ]
  },
  {
   "cell_type": "code",
   "execution_count": 11,
   "id": "fd259ae4",
   "metadata": {
    "execution": {
     "iopub.execute_input": "2023-11-25T21:08:57.700472Z",
     "iopub.status.busy": "2023-11-25T21:08:57.699772Z",
     "iopub.status.idle": "2023-11-25T21:08:57.704249Z",
     "shell.execute_reply": "2023-11-25T21:08:57.703412Z"
    },
    "papermill": {
     "duration": 0.017932,
     "end_time": "2023-11-25T21:08:57.706023",
     "exception": false,
     "start_time": "2023-11-25T21:08:57.688091",
     "status": "completed"
    },
    "tags": []
   },
   "outputs": [],
   "source": [
    "# Let us Instantiate our models\n",
    "modelrf =RandomForestClassifier() #Instantiating RandomForestClassifier model\n",
    "modellr =LogisticRegression() #Instantiating LogisticRegression model"
   ]
  },
  {
   "cell_type": "code",
   "execution_count": 12,
   "id": "e1b86f9b",
   "metadata": {
    "execution": {
     "iopub.execute_input": "2023-11-25T21:08:57.728659Z",
     "iopub.status.busy": "2023-11-25T21:08:57.727926Z",
     "iopub.status.idle": "2023-11-25T21:13:30.806248Z",
     "shell.execute_reply": "2023-11-25T21:13:30.805346Z"
    },
    "papermill": {
     "duration": 273.103162,
     "end_time": "2023-11-25T21:13:30.819567",
     "exception": false,
     "start_time": "2023-11-25T21:08:57.716405",
     "status": "completed"
    },
    "tags": []
   },
   "outputs": [
    {
     "name": "stderr",
     "output_type": "stream",
     "text": [
      "/opt/conda/lib/python3.10/site-packages/sklearn/utils/validation.py:767: FutureWarning: is_sparse is deprecated and will be removed in a future version. Check `isinstance(dtype, pd.SparseDtype)` instead.\n",
      "  if not hasattr(array, \"sparse\") and array.dtypes.apply(is_sparse).any():\n",
      "/opt/conda/lib/python3.10/site-packages/sklearn/utils/validation.py:605: FutureWarning: is_sparse is deprecated and will be removed in a future version. Check `isinstance(dtype, pd.SparseDtype)` instead.\n",
      "  if is_sparse(pd_dtype):\n",
      "/opt/conda/lib/python3.10/site-packages/sklearn/utils/validation.py:614: FutureWarning: is_sparse is deprecated and will be removed in a future version. Check `isinstance(dtype, pd.SparseDtype)` instead.\n",
      "  if is_sparse(pd_dtype) or not is_extension_array_dtype(pd_dtype):\n",
      "/opt/conda/lib/python3.10/site-packages/sklearn/utils/validation.py:605: FutureWarning: is_sparse is deprecated and will be removed in a future version. Check `isinstance(dtype, pd.SparseDtype)` instead.\n",
      "  if is_sparse(pd_dtype):\n",
      "/opt/conda/lib/python3.10/site-packages/sklearn/utils/validation.py:614: FutureWarning: is_sparse is deprecated and will be removed in a future version. Check `isinstance(dtype, pd.SparseDtype)` instead.\n",
      "  if is_sparse(pd_dtype) or not is_extension_array_dtype(pd_dtype):\n"
     ]
    },
    {
     "data": {
      "text/html": [
       "<style>#sk-container-id-1 {color: black;background-color: white;}#sk-container-id-1 pre{padding: 0;}#sk-container-id-1 div.sk-toggleable {background-color: white;}#sk-container-id-1 label.sk-toggleable__label {cursor: pointer;display: block;width: 100%;margin-bottom: 0;padding: 0.3em;box-sizing: border-box;text-align: center;}#sk-container-id-1 label.sk-toggleable__label-arrow:before {content: \"▸\";float: left;margin-right: 0.25em;color: #696969;}#sk-container-id-1 label.sk-toggleable__label-arrow:hover:before {color: black;}#sk-container-id-1 div.sk-estimator:hover label.sk-toggleable__label-arrow:before {color: black;}#sk-container-id-1 div.sk-toggleable__content {max-height: 0;max-width: 0;overflow: hidden;text-align: left;background-color: #f0f8ff;}#sk-container-id-1 div.sk-toggleable__content pre {margin: 0.2em;color: black;border-radius: 0.25em;background-color: #f0f8ff;}#sk-container-id-1 input.sk-toggleable__control:checked~div.sk-toggleable__content {max-height: 200px;max-width: 100%;overflow: auto;}#sk-container-id-1 input.sk-toggleable__control:checked~label.sk-toggleable__label-arrow:before {content: \"▾\";}#sk-container-id-1 div.sk-estimator input.sk-toggleable__control:checked~label.sk-toggleable__label {background-color: #d4ebff;}#sk-container-id-1 div.sk-label input.sk-toggleable__control:checked~label.sk-toggleable__label {background-color: #d4ebff;}#sk-container-id-1 input.sk-hidden--visually {border: 0;clip: rect(1px 1px 1px 1px);clip: rect(1px, 1px, 1px, 1px);height: 1px;margin: -1px;overflow: hidden;padding: 0;position: absolute;width: 1px;}#sk-container-id-1 div.sk-estimator {font-family: monospace;background-color: #f0f8ff;border: 1px dotted black;border-radius: 0.25em;box-sizing: border-box;margin-bottom: 0.5em;}#sk-container-id-1 div.sk-estimator:hover {background-color: #d4ebff;}#sk-container-id-1 div.sk-parallel-item::after {content: \"\";width: 100%;border-bottom: 1px solid gray;flex-grow: 1;}#sk-container-id-1 div.sk-label:hover label.sk-toggleable__label {background-color: #d4ebff;}#sk-container-id-1 div.sk-serial::before {content: \"\";position: absolute;border-left: 1px solid gray;box-sizing: border-box;top: 0;bottom: 0;left: 50%;z-index: 0;}#sk-container-id-1 div.sk-serial {display: flex;flex-direction: column;align-items: center;background-color: white;padding-right: 0.2em;padding-left: 0.2em;position: relative;}#sk-container-id-1 div.sk-item {position: relative;z-index: 1;}#sk-container-id-1 div.sk-parallel {display: flex;align-items: stretch;justify-content: center;background-color: white;position: relative;}#sk-container-id-1 div.sk-item::before, #sk-container-id-1 div.sk-parallel-item::before {content: \"\";position: absolute;border-left: 1px solid gray;box-sizing: border-box;top: 0;bottom: 0;left: 50%;z-index: -1;}#sk-container-id-1 div.sk-parallel-item {display: flex;flex-direction: column;z-index: 1;position: relative;background-color: white;}#sk-container-id-1 div.sk-parallel-item:first-child::after {align-self: flex-end;width: 50%;}#sk-container-id-1 div.sk-parallel-item:last-child::after {align-self: flex-start;width: 50%;}#sk-container-id-1 div.sk-parallel-item:only-child::after {width: 0;}#sk-container-id-1 div.sk-dashed-wrapped {border: 1px dashed gray;margin: 0 0.4em 0.5em 0.4em;box-sizing: border-box;padding-bottom: 0.4em;background-color: white;}#sk-container-id-1 div.sk-label label {font-family: monospace;font-weight: bold;display: inline-block;line-height: 1.2em;}#sk-container-id-1 div.sk-label-container {text-align: center;}#sk-container-id-1 div.sk-container {/* jupyter's `normalize.less` sets `[hidden] { display: none; }` but bootstrap.min.css set `[hidden] { display: none !important; }` so we also need the `!important` here to be able to override the default hidden behavior on the sphinx rendered scikit-learn.org. See: https://github.com/scikit-learn/scikit-learn/issues/21755 */display: inline-block !important;position: relative;}#sk-container-id-1 div.sk-text-repr-fallback {display: none;}</style><div id=\"sk-container-id-1\" class=\"sk-top-container\"><div class=\"sk-text-repr-fallback\"><pre>RandomForestClassifier()</pre><b>In a Jupyter environment, please rerun this cell to show the HTML representation or trust the notebook. <br />On GitHub, the HTML representation is unable to render, please try loading this page with nbviewer.org.</b></div><div class=\"sk-container\" hidden><div class=\"sk-item\"><div class=\"sk-estimator sk-toggleable\"><input class=\"sk-toggleable__control sk-hidden--visually\" id=\"sk-estimator-id-1\" type=\"checkbox\" checked><label for=\"sk-estimator-id-1\" class=\"sk-toggleable__label sk-toggleable__label-arrow\">RandomForestClassifier</label><div class=\"sk-toggleable__content\"><pre>RandomForestClassifier()</pre></div></div></div></div></div>"
      ],
      "text/plain": [
       "RandomForestClassifier()"
      ]
     },
     "execution_count": 12,
     "metadata": {},
     "output_type": "execute_result"
    }
   ],
   "source": [
    "modelrf.fit(X_train,y_train) # Fitting our Training Data to RandomForestClassifier model\n"
   ]
  },
  {
   "cell_type": "code",
   "execution_count": 13,
   "id": "82cff9ec",
   "metadata": {
    "execution": {
     "iopub.execute_input": "2023-11-25T21:13:30.842812Z",
     "iopub.status.busy": "2023-11-25T21:13:30.842118Z",
     "iopub.status.idle": "2023-11-25T21:13:31.778199Z",
     "shell.execute_reply": "2023-11-25T21:13:31.777121Z"
    },
    "papermill": {
     "duration": 0.950186,
     "end_time": "2023-11-25T21:13:31.780605",
     "exception": false,
     "start_time": "2023-11-25T21:13:30.830419",
     "status": "completed"
    },
    "tags": []
   },
   "outputs": [
    {
     "name": "stderr",
     "output_type": "stream",
     "text": [
      "/opt/conda/lib/python3.10/site-packages/sklearn/utils/validation.py:767: FutureWarning: is_sparse is deprecated and will be removed in a future version. Check `isinstance(dtype, pd.SparseDtype)` instead.\n",
      "  if not hasattr(array, \"sparse\") and array.dtypes.apply(is_sparse).any():\n",
      "/opt/conda/lib/python3.10/site-packages/sklearn/utils/validation.py:605: FutureWarning: is_sparse is deprecated and will be removed in a future version. Check `isinstance(dtype, pd.SparseDtype)` instead.\n",
      "  if is_sparse(pd_dtype):\n",
      "/opt/conda/lib/python3.10/site-packages/sklearn/utils/validation.py:614: FutureWarning: is_sparse is deprecated and will be removed in a future version. Check `isinstance(dtype, pd.SparseDtype)` instead.\n",
      "  if is_sparse(pd_dtype) or not is_extension_array_dtype(pd_dtype):\n",
      "/opt/conda/lib/python3.10/site-packages/sklearn/utils/validation.py:605: FutureWarning: is_sparse is deprecated and will be removed in a future version. Check `isinstance(dtype, pd.SparseDtype)` instead.\n",
      "  if is_sparse(pd_dtype):\n",
      "/opt/conda/lib/python3.10/site-packages/sklearn/utils/validation.py:614: FutureWarning: is_sparse is deprecated and will be removed in a future version. Check `isinstance(dtype, pd.SparseDtype)` instead.\n",
      "  if is_sparse(pd_dtype) or not is_extension_array_dtype(pd_dtype):\n",
      "/opt/conda/lib/python3.10/site-packages/sklearn/utils/validation.py:605: FutureWarning: is_sparse is deprecated and will be removed in a future version. Check `isinstance(dtype, pd.SparseDtype)` instead.\n",
      "  if is_sparse(pd_dtype):\n",
      "/opt/conda/lib/python3.10/site-packages/sklearn/utils/validation.py:614: FutureWarning: is_sparse is deprecated and will be removed in a future version. Check `isinstance(dtype, pd.SparseDtype)` instead.\n",
      "  if is_sparse(pd_dtype) or not is_extension_array_dtype(pd_dtype):\n",
      "/opt/conda/lib/python3.10/site-packages/sklearn/utils/validation.py:605: FutureWarning: is_sparse is deprecated and will be removed in a future version. Check `isinstance(dtype, pd.SparseDtype)` instead.\n",
      "  if is_sparse(pd_dtype):\n",
      "/opt/conda/lib/python3.10/site-packages/sklearn/utils/validation.py:614: FutureWarning: is_sparse is deprecated and will be removed in a future version. Check `isinstance(dtype, pd.SparseDtype)` instead.\n",
      "  if is_sparse(pd_dtype) or not is_extension_array_dtype(pd_dtype):\n"
     ]
    },
    {
     "data": {
      "text/plain": [
       "0.9998241387193781"
      ]
     },
     "execution_count": 13,
     "metadata": {},
     "output_type": "execute_result"
    }
   ],
   "source": [
    "# Let us evaluate the performance of our Model\n",
    "modelrf.score(X_test,y_test)"
   ]
  },
  {
   "cell_type": "markdown",
   "id": "5144eda8",
   "metadata": {
    "papermill": {
     "duration": 0.011054,
     "end_time": "2023-11-25T21:13:31.803039",
     "exception": false,
     "start_time": "2023-11-25T21:13:31.791985",
     "status": "completed"
    },
    "tags": []
   },
   "source": [
    "#### From score evaluation  above,we can see that our Model did very well"
   ]
  },
  {
   "cell_type": "code",
   "execution_count": 14,
   "id": "d7deab34",
   "metadata": {
    "execution": {
     "iopub.execute_input": "2023-11-25T21:13:31.827837Z",
     "iopub.status.busy": "2023-11-25T21:13:31.827039Z",
     "iopub.status.idle": "2023-11-25T21:13:33.470745Z",
     "shell.execute_reply": "2023-11-25T21:13:33.469297Z"
    },
    "papermill": {
     "duration": 1.659761,
     "end_time": "2023-11-25T21:13:33.474276",
     "exception": false,
     "start_time": "2023-11-25T21:13:31.814515",
     "status": "completed"
    },
    "tags": []
   },
   "outputs": [
    {
     "name": "stderr",
     "output_type": "stream",
     "text": [
      "/opt/conda/lib/python3.10/site-packages/sklearn/utils/validation.py:767: FutureWarning: is_sparse is deprecated and will be removed in a future version. Check `isinstance(dtype, pd.SparseDtype)` instead.\n",
      "  if not hasattr(array, \"sparse\") and array.dtypes.apply(is_sparse).any():\n",
      "/opt/conda/lib/python3.10/site-packages/sklearn/utils/validation.py:605: FutureWarning: is_sparse is deprecated and will be removed in a future version. Check `isinstance(dtype, pd.SparseDtype)` instead.\n",
      "  if is_sparse(pd_dtype):\n",
      "/opt/conda/lib/python3.10/site-packages/sklearn/utils/validation.py:614: FutureWarning: is_sparse is deprecated and will be removed in a future version. Check `isinstance(dtype, pd.SparseDtype)` instead.\n",
      "  if is_sparse(pd_dtype) or not is_extension_array_dtype(pd_dtype):\n",
      "/opt/conda/lib/python3.10/site-packages/sklearn/utils/validation.py:605: FutureWarning: is_sparse is deprecated and will be removed in a future version. Check `isinstance(dtype, pd.SparseDtype)` instead.\n",
      "  if is_sparse(pd_dtype):\n",
      "/opt/conda/lib/python3.10/site-packages/sklearn/utils/validation.py:614: FutureWarning: is_sparse is deprecated and will be removed in a future version. Check `isinstance(dtype, pd.SparseDtype)` instead.\n",
      "  if is_sparse(pd_dtype) or not is_extension_array_dtype(pd_dtype):\n"
     ]
    },
    {
     "data": {
      "text/html": [
       "<style>#sk-container-id-2 {color: black;background-color: white;}#sk-container-id-2 pre{padding: 0;}#sk-container-id-2 div.sk-toggleable {background-color: white;}#sk-container-id-2 label.sk-toggleable__label {cursor: pointer;display: block;width: 100%;margin-bottom: 0;padding: 0.3em;box-sizing: border-box;text-align: center;}#sk-container-id-2 label.sk-toggleable__label-arrow:before {content: \"▸\";float: left;margin-right: 0.25em;color: #696969;}#sk-container-id-2 label.sk-toggleable__label-arrow:hover:before {color: black;}#sk-container-id-2 div.sk-estimator:hover label.sk-toggleable__label-arrow:before {color: black;}#sk-container-id-2 div.sk-toggleable__content {max-height: 0;max-width: 0;overflow: hidden;text-align: left;background-color: #f0f8ff;}#sk-container-id-2 div.sk-toggleable__content pre {margin: 0.2em;color: black;border-radius: 0.25em;background-color: #f0f8ff;}#sk-container-id-2 input.sk-toggleable__control:checked~div.sk-toggleable__content {max-height: 200px;max-width: 100%;overflow: auto;}#sk-container-id-2 input.sk-toggleable__control:checked~label.sk-toggleable__label-arrow:before {content: \"▾\";}#sk-container-id-2 div.sk-estimator input.sk-toggleable__control:checked~label.sk-toggleable__label {background-color: #d4ebff;}#sk-container-id-2 div.sk-label input.sk-toggleable__control:checked~label.sk-toggleable__label {background-color: #d4ebff;}#sk-container-id-2 input.sk-hidden--visually {border: 0;clip: rect(1px 1px 1px 1px);clip: rect(1px, 1px, 1px, 1px);height: 1px;margin: -1px;overflow: hidden;padding: 0;position: absolute;width: 1px;}#sk-container-id-2 div.sk-estimator {font-family: monospace;background-color: #f0f8ff;border: 1px dotted black;border-radius: 0.25em;box-sizing: border-box;margin-bottom: 0.5em;}#sk-container-id-2 div.sk-estimator:hover {background-color: #d4ebff;}#sk-container-id-2 div.sk-parallel-item::after {content: \"\";width: 100%;border-bottom: 1px solid gray;flex-grow: 1;}#sk-container-id-2 div.sk-label:hover label.sk-toggleable__label {background-color: #d4ebff;}#sk-container-id-2 div.sk-serial::before {content: \"\";position: absolute;border-left: 1px solid gray;box-sizing: border-box;top: 0;bottom: 0;left: 50%;z-index: 0;}#sk-container-id-2 div.sk-serial {display: flex;flex-direction: column;align-items: center;background-color: white;padding-right: 0.2em;padding-left: 0.2em;position: relative;}#sk-container-id-2 div.sk-item {position: relative;z-index: 1;}#sk-container-id-2 div.sk-parallel {display: flex;align-items: stretch;justify-content: center;background-color: white;position: relative;}#sk-container-id-2 div.sk-item::before, #sk-container-id-2 div.sk-parallel-item::before {content: \"\";position: absolute;border-left: 1px solid gray;box-sizing: border-box;top: 0;bottom: 0;left: 50%;z-index: -1;}#sk-container-id-2 div.sk-parallel-item {display: flex;flex-direction: column;z-index: 1;position: relative;background-color: white;}#sk-container-id-2 div.sk-parallel-item:first-child::after {align-self: flex-end;width: 50%;}#sk-container-id-2 div.sk-parallel-item:last-child::after {align-self: flex-start;width: 50%;}#sk-container-id-2 div.sk-parallel-item:only-child::after {width: 0;}#sk-container-id-2 div.sk-dashed-wrapped {border: 1px dashed gray;margin: 0 0.4em 0.5em 0.4em;box-sizing: border-box;padding-bottom: 0.4em;background-color: white;}#sk-container-id-2 div.sk-label label {font-family: monospace;font-weight: bold;display: inline-block;line-height: 1.2em;}#sk-container-id-2 div.sk-label-container {text-align: center;}#sk-container-id-2 div.sk-container {/* jupyter's `normalize.less` sets `[hidden] { display: none; }` but bootstrap.min.css set `[hidden] { display: none !important; }` so we also need the `!important` here to be able to override the default hidden behavior on the sphinx rendered scikit-learn.org. See: https://github.com/scikit-learn/scikit-learn/issues/21755 */display: inline-block !important;position: relative;}#sk-container-id-2 div.sk-text-repr-fallback {display: none;}</style><div id=\"sk-container-id-2\" class=\"sk-top-container\"><div class=\"sk-text-repr-fallback\"><pre>LogisticRegression()</pre><b>In a Jupyter environment, please rerun this cell to show the HTML representation or trust the notebook. <br />On GitHub, the HTML representation is unable to render, please try loading this page with nbviewer.org.</b></div><div class=\"sk-container\" hidden><div class=\"sk-item\"><div class=\"sk-estimator sk-toggleable\"><input class=\"sk-toggleable__control sk-hidden--visually\" id=\"sk-estimator-id-2\" type=\"checkbox\" checked><label for=\"sk-estimator-id-2\" class=\"sk-toggleable__label sk-toggleable__label-arrow\">LogisticRegression</label><div class=\"sk-toggleable__content\"><pre>LogisticRegression()</pre></div></div></div></div></div>"
      ],
      "text/plain": [
       "LogisticRegression()"
      ]
     },
     "execution_count": 14,
     "metadata": {},
     "output_type": "execute_result"
    }
   ],
   "source": [
    "modellr.fit(X_train,y_train) # Fitting our Training Data to LogisticRegression model"
   ]
  },
  {
   "cell_type": "code",
   "execution_count": 15,
   "id": "8f498cc1",
   "metadata": {
    "execution": {
     "iopub.execute_input": "2023-11-25T21:13:33.529379Z",
     "iopub.status.busy": "2023-11-25T21:13:33.528803Z",
     "iopub.status.idle": "2023-11-25T21:13:33.588266Z",
     "shell.execute_reply": "2023-11-25T21:13:33.586958Z"
    },
    "papermill": {
     "duration": 0.092023,
     "end_time": "2023-11-25T21:13:33.593249",
     "exception": false,
     "start_time": "2023-11-25T21:13:33.501226",
     "status": "completed"
    },
    "tags": []
   },
   "outputs": [
    {
     "name": "stderr",
     "output_type": "stream",
     "text": [
      "/opt/conda/lib/python3.10/site-packages/sklearn/utils/validation.py:767: FutureWarning: is_sparse is deprecated and will be removed in a future version. Check `isinstance(dtype, pd.SparseDtype)` instead.\n",
      "  if not hasattr(array, \"sparse\") and array.dtypes.apply(is_sparse).any():\n",
      "/opt/conda/lib/python3.10/site-packages/sklearn/utils/validation.py:605: FutureWarning: is_sparse is deprecated and will be removed in a future version. Check `isinstance(dtype, pd.SparseDtype)` instead.\n",
      "  if is_sparse(pd_dtype):\n",
      "/opt/conda/lib/python3.10/site-packages/sklearn/utils/validation.py:614: FutureWarning: is_sparse is deprecated and will be removed in a future version. Check `isinstance(dtype, pd.SparseDtype)` instead.\n",
      "  if is_sparse(pd_dtype) or not is_extension_array_dtype(pd_dtype):\n",
      "/opt/conda/lib/python3.10/site-packages/sklearn/utils/validation.py:605: FutureWarning: is_sparse is deprecated and will be removed in a future version. Check `isinstance(dtype, pd.SparseDtype)` instead.\n",
      "  if is_sparse(pd_dtype):\n",
      "/opt/conda/lib/python3.10/site-packages/sklearn/utils/validation.py:614: FutureWarning: is_sparse is deprecated and will be removed in a future version. Check `isinstance(dtype, pd.SparseDtype)` instead.\n",
      "  if is_sparse(pd_dtype) or not is_extension_array_dtype(pd_dtype):\n",
      "/opt/conda/lib/python3.10/site-packages/sklearn/utils/validation.py:605: FutureWarning: is_sparse is deprecated and will be removed in a future version. Check `isinstance(dtype, pd.SparseDtype)` instead.\n",
      "  if is_sparse(pd_dtype):\n",
      "/opt/conda/lib/python3.10/site-packages/sklearn/utils/validation.py:614: FutureWarning: is_sparse is deprecated and will be removed in a future version. Check `isinstance(dtype, pd.SparseDtype)` instead.\n",
      "  if is_sparse(pd_dtype) or not is_extension_array_dtype(pd_dtype):\n",
      "/opt/conda/lib/python3.10/site-packages/sklearn/utils/validation.py:605: FutureWarning: is_sparse is deprecated and will be removed in a future version. Check `isinstance(dtype, pd.SparseDtype)` instead.\n",
      "  if is_sparse(pd_dtype):\n",
      "/opt/conda/lib/python3.10/site-packages/sklearn/utils/validation.py:614: FutureWarning: is_sparse is deprecated and will be removed in a future version. Check `isinstance(dtype, pd.SparseDtype)` instead.\n",
      "  if is_sparse(pd_dtype) or not is_extension_array_dtype(pd_dtype):\n"
     ]
    },
    {
     "data": {
      "text/plain": [
       "0.7893533580711535"
      ]
     },
     "execution_count": 15,
     "metadata": {},
     "output_type": "execute_result"
    }
   ],
   "source": [
    "# Let us also evaluate the performance of our LogistcRegression model\n",
    "modellr.score(X_test,y_test)"
   ]
  },
  {
   "cell_type": "markdown",
   "id": "f6235a36",
   "metadata": {
    "papermill": {
     "duration": 0.02484,
     "end_time": "2023-11-25T21:13:33.643708",
     "exception": false,
     "start_time": "2023-11-25T21:13:33.618868",
     "status": "completed"
    },
    "tags": []
   },
   "source": [
    "### From Model evaluation above,we can see that Random forest performed better than LogisticRegression Algorithm"
   ]
  },
  {
   "cell_type": "code",
   "execution_count": 16,
   "id": "503e6c02",
   "metadata": {
    "execution": {
     "iopub.execute_input": "2023-11-25T21:13:33.694683Z",
     "iopub.status.busy": "2023-11-25T21:13:33.694322Z",
     "iopub.status.idle": "2023-11-25T21:13:34.902169Z",
     "shell.execute_reply": "2023-11-25T21:13:34.901174Z"
    },
    "papermill": {
     "duration": 1.235643,
     "end_time": "2023-11-25T21:13:34.904770",
     "exception": false,
     "start_time": "2023-11-25T21:13:33.669127",
     "status": "completed"
    },
    "tags": []
   },
   "outputs": [
    {
     "name": "stderr",
     "output_type": "stream",
     "text": [
      "/opt/conda/lib/python3.10/site-packages/sklearn/utils/validation.py:767: FutureWarning: is_sparse is deprecated and will be removed in a future version. Check `isinstance(dtype, pd.SparseDtype)` instead.\n",
      "  if not hasattr(array, \"sparse\") and array.dtypes.apply(is_sparse).any():\n",
      "/opt/conda/lib/python3.10/site-packages/sklearn/utils/validation.py:605: FutureWarning: is_sparse is deprecated and will be removed in a future version. Check `isinstance(dtype, pd.SparseDtype)` instead.\n",
      "  if is_sparse(pd_dtype):\n",
      "/opt/conda/lib/python3.10/site-packages/sklearn/utils/validation.py:614: FutureWarning: is_sparse is deprecated and will be removed in a future version. Check `isinstance(dtype, pd.SparseDtype)` instead.\n",
      "  if is_sparse(pd_dtype) or not is_extension_array_dtype(pd_dtype):\n",
      "/opt/conda/lib/python3.10/site-packages/sklearn/utils/validation.py:605: FutureWarning: is_sparse is deprecated and will be removed in a future version. Check `isinstance(dtype, pd.SparseDtype)` instead.\n",
      "  if is_sparse(pd_dtype):\n",
      "/opt/conda/lib/python3.10/site-packages/sklearn/utils/validation.py:614: FutureWarning: is_sparse is deprecated and will be removed in a future version. Check `isinstance(dtype, pd.SparseDtype)` instead.\n",
      "  if is_sparse(pd_dtype) or not is_extension_array_dtype(pd_dtype):\n",
      "/opt/conda/lib/python3.10/site-packages/sklearn/utils/validation.py:605: FutureWarning: is_sparse is deprecated and will be removed in a future version. Check `isinstance(dtype, pd.SparseDtype)` instead.\n",
      "  if is_sparse(pd_dtype):\n",
      "/opt/conda/lib/python3.10/site-packages/sklearn/utils/validation.py:614: FutureWarning: is_sparse is deprecated and will be removed in a future version. Check `isinstance(dtype, pd.SparseDtype)` instead.\n",
      "  if is_sparse(pd_dtype) or not is_extension_array_dtype(pd_dtype):\n",
      "/opt/conda/lib/python3.10/site-packages/sklearn/utils/validation.py:605: FutureWarning: is_sparse is deprecated and will be removed in a future version. Check `isinstance(dtype, pd.SparseDtype)` instead.\n",
      "  if is_sparse(pd_dtype):\n",
      "/opt/conda/lib/python3.10/site-packages/sklearn/utils/validation.py:614: FutureWarning: is_sparse is deprecated and will be removed in a future version. Check `isinstance(dtype, pd.SparseDtype)` instead.\n",
      "  if is_sparse(pd_dtype) or not is_extension_array_dtype(pd_dtype):\n"
     ]
    },
    {
     "data": {
      "image/png": "[encoded data removed]",
      "text/plain": [
       "<Figure size 640x480 with 1 Axes>"
      ]
     },
     "metadata": {},
     "output_type": "display_data"
    }
   ],
   "source": [
    "# Plotting a ROC for RandomForestClassifier Model\n",
    "from sklearn.metrics import RocCurveDisplay\n",
    "\n",
    "import matplotlib.pyplot as plt\n",
    "ax = plt.gca()\n",
    "modelrf_disp = RocCurveDisplay.from_estimator(modelrf, X_test, y_test, ax=ax, alpha=0.8)\n",
    "modelrf_disp.plot(ax=ax, alpha=0.8)\n",
    "plt.show()"
   ]
  },
  {
   "cell_type": "code",
   "execution_count": 17,
   "id": "ed49e603",
   "metadata": {
    "execution": {
     "iopub.execute_input": "2023-11-25T21:13:34.978100Z",
     "iopub.status.busy": "2023-11-25T21:13:34.977295Z",
     "iopub.status.idle": "2023-11-25T21:13:35.326529Z",
     "shell.execute_reply": "2023-11-25T21:13:35.325662Z"
    },
    "papermill": {
     "duration": 0.3651,
     "end_time": "2023-11-25T21:13:35.328798",
     "exception": false,
     "start_time": "2023-11-25T21:13:34.963698",
     "status": "completed"
    },
    "tags": []
   },
   "outputs": [
    {
     "name": "stderr",
     "output_type": "stream",
     "text": [
      "/opt/conda/lib/python3.10/site-packages/sklearn/utils/validation.py:767: FutureWarning: is_sparse is deprecated and will be removed in a future version. Check `isinstance(dtype, pd.SparseDtype)` instead.\n",
      "  if not hasattr(array, \"sparse\") and array.dtypes.apply(is_sparse).any():\n",
      "/opt/conda/lib/python3.10/site-packages/sklearn/utils/validation.py:605: FutureWarning: is_sparse is deprecated and will be removed in a future version. Check `isinstance(dtype, pd.SparseDtype)` instead.\n",
      "  if is_sparse(pd_dtype):\n",
      "/opt/conda/lib/python3.10/site-packages/sklearn/utils/validation.py:614: FutureWarning: is_sparse is deprecated and will be removed in a future version. Check `isinstance(dtype, pd.SparseDtype)` instead.\n",
      "  if is_sparse(pd_dtype) or not is_extension_array_dtype(pd_dtype):\n",
      "/opt/conda/lib/python3.10/site-packages/sklearn/utils/validation.py:605: FutureWarning: is_sparse is deprecated and will be removed in a future version. Check `isinstance(dtype, pd.SparseDtype)` instead.\n",
      "  if is_sparse(pd_dtype):\n",
      "/opt/conda/lib/python3.10/site-packages/sklearn/utils/validation.py:614: FutureWarning: is_sparse is deprecated and will be removed in a future version. Check `isinstance(dtype, pd.SparseDtype)` instead.\n",
      "  if is_sparse(pd_dtype) or not is_extension_array_dtype(pd_dtype):\n",
      "/opt/conda/lib/python3.10/site-packages/sklearn/utils/validation.py:605: FutureWarning: is_sparse is deprecated and will be removed in a future version. Check `isinstance(dtype, pd.SparseDtype)` instead.\n",
      "  if is_sparse(pd_dtype):\n",
      "/opt/conda/lib/python3.10/site-packages/sklearn/utils/validation.py:614: FutureWarning: is_sparse is deprecated and will be removed in a future version. Check `isinstance(dtype, pd.SparseDtype)` instead.\n",
      "  if is_sparse(pd_dtype) or not is_extension_array_dtype(pd_dtype):\n",
      "/opt/conda/lib/python3.10/site-packages/sklearn/utils/validation.py:605: FutureWarning: is_sparse is deprecated and will be removed in a future version. Check `isinstance(dtype, pd.SparseDtype)` instead.\n",
      "  if is_sparse(pd_dtype):\n",
      "/opt/conda/lib/python3.10/site-packages/sklearn/utils/validation.py:614: FutureWarning: is_sparse is deprecated and will be removed in a future version. Check `isinstance(dtype, pd.SparseDtype)` instead.\n",
      "  if is_sparse(pd_dtype) or not is_extension_array_dtype(pd_dtype):\n"
     ]
    },
    {
     "data": {
      "image/png": "[encoded data removed]",
      "text/plain": [
       "<Figure size 640x480 with 1 Axes>"
      ]
     },
     "metadata": {},
     "output_type": "display_data"
    }
   ],
   "source": [
    "# Plotting a ROC for LogisticRegression Model\n",
    "from sklearn.metrics import RocCurveDisplay\n",
    "\n",
    "import matplotlib.pyplot as plt\n",
    "ax = plt.gca()\n",
    "modellr_disp = RocCurveDisplay.from_estimator(modellr, X_test, y_test, ax=ax, alpha=0.8)\n",
    "modellr_disp.plot(ax=ax, alpha=0.8)\n",
    "plt.show()"
   ]
  },
  {
   "cell_type": "markdown",
   "id": "ce0512de",
   "metadata": {
    "papermill": {
     "duration": 0.013206,
     "end_time": "2023-11-25T21:13:35.355583",
     "exception": false,
     "start_time": "2023-11-25T21:13:35.342377",
     "status": "completed"
    },
    "tags": []
   },
   "source": [
    "#### From ROC Plots above,We can see that tha,RandomForestClassifier performed better than LogisticRegression"
   ]
  },
  {
   "cell_type": "markdown",
   "id": "000e06bc",
   "metadata": {
    "papermill": {
     "duration": 0.013464,
     "end_time": "2023-11-25T21:13:35.382714",
     "exception": false,
     "start_time": "2023-11-25T21:13:35.369250",
     "status": "completed"
    },
    "tags": []
   },
   "source": [
    " * # Let us also check out `Precision`,`Accuracy`  and `F1`"
   ]
  },
  {
   "cell_type": "markdown",
   "id": "9acbc886",
   "metadata": {
    "papermill": {
     "duration": 0.013154,
     "end_time": "2023-11-25T21:13:35.409226",
     "exception": false,
     "start_time": "2023-11-25T21:13:35.396072",
     "status": "completed"
    },
    "tags": []
   },
   "source": [
    "* Let us get `y_preds` for both models and with that value try to compare `classification_reports` for both models"
   ]
  },
  {
   "cell_type": "code",
   "execution_count": 18,
   "id": "2c411d3a",
   "metadata": {
    "execution": {
     "iopub.execute_input": "2023-11-25T21:13:35.437715Z",
     "iopub.status.busy": "2023-11-25T21:13:35.436867Z",
     "iopub.status.idle": "2023-11-25T21:13:36.361746Z",
     "shell.execute_reply": "2023-11-25T21:13:36.360770Z"
    },
    "papermill": {
     "duration": 0.941984,
     "end_time": "2023-11-25T21:13:36.364224",
     "exception": false,
     "start_time": "2023-11-25T21:13:35.422240",
     "status": "completed"
    },
    "tags": []
   },
   "outputs": [
    {
     "name": "stderr",
     "output_type": "stream",
     "text": [
      "/opt/conda/lib/python3.10/site-packages/sklearn/utils/validation.py:767: FutureWarning: is_sparse is deprecated and will be removed in a future version. Check `isinstance(dtype, pd.SparseDtype)` instead.\n",
      "  if not hasattr(array, \"sparse\") and array.dtypes.apply(is_sparse).any():\n",
      "/opt/conda/lib/python3.10/site-packages/sklearn/utils/validation.py:605: FutureWarning: is_sparse is deprecated and will be removed in a future version. Check `isinstance(dtype, pd.SparseDtype)` instead.\n",
      "  if is_sparse(pd_dtype):\n",
      "/opt/conda/lib/python3.10/site-packages/sklearn/utils/validation.py:614: FutureWarning: is_sparse is deprecated and will be removed in a future version. Check `isinstance(dtype, pd.SparseDtype)` instead.\n",
      "  if is_sparse(pd_dtype) or not is_extension_array_dtype(pd_dtype):\n"
     ]
    },
    {
     "data": {
      "text/plain": [
       "array([1, 1, 0, ..., 1, 1, 0])"
      ]
     },
     "execution_count": 18,
     "metadata": {},
     "output_type": "execute_result"
    }
   ],
   "source": [
    "y_predrf =modelrf.predict(X_test) # y_preds for RandomForestClassifier\n",
    "y_predrf\n"
   ]
  },
  {
   "cell_type": "code",
   "execution_count": 19,
   "id": "e5885550",
   "metadata": {
    "execution": {
     "iopub.execute_input": "2023-11-25T21:13:36.394171Z",
     "iopub.status.busy": "2023-11-25T21:13:36.393820Z",
     "iopub.status.idle": "2023-11-25T21:13:36.416946Z",
     "shell.execute_reply": "2023-11-25T21:13:36.415780Z"
    },
    "papermill": {
     "duration": 0.041765,
     "end_time": "2023-11-25T21:13:36.420152",
     "exception": false,
     "start_time": "2023-11-25T21:13:36.378387",
     "status": "completed"
    },
    "tags": []
   },
   "outputs": [
    {
     "name": "stderr",
     "output_type": "stream",
     "text": [
      "/opt/conda/lib/python3.10/site-packages/sklearn/utils/validation.py:767: FutureWarning: is_sparse is deprecated and will be removed in a future version. Check `isinstance(dtype, pd.SparseDtype)` instead.\n",
      "  if not hasattr(array, \"sparse\") and array.dtypes.apply(is_sparse).any():\n",
      "/opt/conda/lib/python3.10/site-packages/sklearn/utils/validation.py:605: FutureWarning: is_sparse is deprecated and will be removed in a future version. Check `isinstance(dtype, pd.SparseDtype)` instead.\n",
      "  if is_sparse(pd_dtype):\n",
      "/opt/conda/lib/python3.10/site-packages/sklearn/utils/validation.py:614: FutureWarning: is_sparse is deprecated and will be removed in a future version. Check `isinstance(dtype, pd.SparseDtype)` instead.\n",
      "  if is_sparse(pd_dtype) or not is_extension_array_dtype(pd_dtype):\n"
     ]
    },
    {
     "data": {
      "text/plain": [
       "array([1, 1, 0, ..., 1, 1, 1])"
      ]
     },
     "execution_count": 19,
     "metadata": {},
     "output_type": "execute_result"
    }
   ],
   "source": [
    "y_predlr =modellr.predict(X_test) # y_preds for LogisticRegression\n",
    "y_predlr"
   ]
  },
  {
   "cell_type": "code",
   "execution_count": 20,
   "id": "a21fb5aa",
   "metadata": {
    "execution": {
     "iopub.execute_input": "2023-11-25T21:13:36.483102Z",
     "iopub.status.busy": "2023-11-25T21:13:36.482519Z",
     "iopub.status.idle": "2023-11-25T21:13:36.704200Z",
     "shell.execute_reply": "2023-11-25T21:13:36.702956Z"
    },
    "papermill": {
     "duration": 0.255427,
     "end_time": "2023-11-25T21:13:36.706480",
     "exception": false,
     "start_time": "2023-11-25T21:13:36.451053",
     "status": "completed"
    },
    "tags": []
   },
   "outputs": [
    {
     "name": "stderr",
     "output_type": "stream",
     "text": [
      "/opt/conda/lib/python3.10/site-packages/sklearn/utils/validation.py:605: FutureWarning: is_sparse is deprecated and will be removed in a future version. Check `isinstance(dtype, pd.SparseDtype)` instead.\n",
      "  if is_sparse(pd_dtype):\n",
      "/opt/conda/lib/python3.10/site-packages/sklearn/utils/validation.py:614: FutureWarning: is_sparse is deprecated and will be removed in a future version. Check `isinstance(dtype, pd.SparseDtype)` instead.\n",
      "  if is_sparse(pd_dtype) or not is_extension_array_dtype(pd_dtype):\n",
      "/opt/conda/lib/python3.10/site-packages/sklearn/utils/validation.py:605: FutureWarning: is_sparse is deprecated and will be removed in a future version. Check `isinstance(dtype, pd.SparseDtype)` instead.\n",
      "  if is_sparse(pd_dtype):\n",
      "/opt/conda/lib/python3.10/site-packages/sklearn/utils/validation.py:614: FutureWarning: is_sparse is deprecated and will be removed in a future version. Check `isinstance(dtype, pd.SparseDtype)` instead.\n",
      "  if is_sparse(pd_dtype) or not is_extension_array_dtype(pd_dtype):\n",
      "/opt/conda/lib/python3.10/site-packages/sklearn/utils/validation.py:605: FutureWarning: is_sparse is deprecated and will be removed in a future version. Check `isinstance(dtype, pd.SparseDtype)` instead.\n",
      "  if is_sparse(pd_dtype):\n",
      "/opt/conda/lib/python3.10/site-packages/sklearn/utils/validation.py:614: FutureWarning: is_sparse is deprecated and will be removed in a future version. Check `isinstance(dtype, pd.SparseDtype)` instead.\n",
      "  if is_sparse(pd_dtype) or not is_extension_array_dtype(pd_dtype):\n"
     ]
    },
    {
     "name": "stdout",
     "output_type": "stream",
     "text": [
      "              precision    recall  f1-score   support\n",
      "\n",
      "           0       1.00      1.00      1.00     56750\n",
      "           1       1.00      1.00      1.00     56976\n",
      "\n",
      "    accuracy                           1.00    113726\n",
      "   macro avg       1.00      1.00      1.00    113726\n",
      "weighted avg       1.00      1.00      1.00    113726\n",
      "\n"
     ]
    }
   ],
   "source": [
    "from sklearn.metrics import classification_report\n",
    "# Classification Report for RandomForestClassifier\n",
    "print(classification_report(y_test,y_predrf))\n"
   ]
  },
  {
   "cell_type": "code",
   "execution_count": 21,
   "id": "fb9d8d00",
   "metadata": {
    "execution": {
     "iopub.execute_input": "2023-11-25T21:13:36.736047Z",
     "iopub.status.busy": "2023-11-25T21:13:36.735715Z",
     "iopub.status.idle": "2023-11-25T21:13:36.928823Z",
     "shell.execute_reply": "2023-11-25T21:13:36.927878Z"
    },
    "papermill": {
     "duration": 0.211525,
     "end_time": "2023-11-25T21:13:36.932175",
     "exception": false,
     "start_time": "2023-11-25T21:13:36.720650",
     "status": "completed"
    },
    "tags": []
   },
   "outputs": [
    {
     "name": "stdout",
     "output_type": "stream",
     "text": [
      "              precision    recall  f1-score   support\n",
      "\n",
      "           0       0.89      0.66      0.76     56750\n",
      "           1       0.73      0.92      0.81     56976\n",
      "\n",
      "    accuracy                           0.79    113726\n",
      "   macro avg       0.81      0.79      0.79    113726\n",
      "weighted avg       0.81      0.79      0.79    113726\n",
      "\n"
     ]
    },
    {
     "name": "stderr",
     "output_type": "stream",
     "text": [
      "/opt/conda/lib/python3.10/site-packages/sklearn/utils/validation.py:605: FutureWarning: is_sparse is deprecated and will be removed in a future version. Check `isinstance(dtype, pd.SparseDtype)` instead.\n",
      "  if is_sparse(pd_dtype):\n",
      "/opt/conda/lib/python3.10/site-packages/sklearn/utils/validation.py:614: FutureWarning: is_sparse is deprecated and will be removed in a future version. Check `isinstance(dtype, pd.SparseDtype)` instead.\n",
      "  if is_sparse(pd_dtype) or not is_extension_array_dtype(pd_dtype):\n",
      "/opt/conda/lib/python3.10/site-packages/sklearn/utils/validation.py:605: FutureWarning: is_sparse is deprecated and will be removed in a future version. Check `isinstance(dtype, pd.SparseDtype)` instead.\n",
      "  if is_sparse(pd_dtype):\n",
      "/opt/conda/lib/python3.10/site-packages/sklearn/utils/validation.py:614: FutureWarning: is_sparse is deprecated and will be removed in a future version. Check `isinstance(dtype, pd.SparseDtype)` instead.\n",
      "  if is_sparse(pd_dtype) or not is_extension_array_dtype(pd_dtype):\n",
      "/opt/conda/lib/python3.10/site-packages/sklearn/utils/validation.py:605: FutureWarning: is_sparse is deprecated and will be removed in a future version. Check `isinstance(dtype, pd.SparseDtype)` instead.\n",
      "  if is_sparse(pd_dtype):\n",
      "/opt/conda/lib/python3.10/site-packages/sklearn/utils/validation.py:614: FutureWarning: is_sparse is deprecated and will be removed in a future version. Check `isinstance(dtype, pd.SparseDtype)` instead.\n",
      "  if is_sparse(pd_dtype) or not is_extension_array_dtype(pd_dtype):\n"
     ]
    }
   ],
   "source": [
    "from sklearn.metrics import classification_report\n",
    "# Classification Report for LogisticRegression\n",
    "print(classification_report(y_test,y_predlr))\n"
   ]
  },
  {
   "cell_type": "code",
   "execution_count": null,
   "id": "2ed06ca4",
   "metadata": {
    "papermill": {
     "duration": 0.013751,
     "end_time": "2023-11-25T21:13:36.961018",
     "exception": false,
     "start_time": "2023-11-25T21:13:36.947267",
     "status": "completed"
    },
    "tags": []
   },
   "outputs": [],
   "source": []
  }
 ],
 "metadata": {
  "kaggle": {
   "accelerator": "none",
   "dataSources": [
    {
     "datasetId": 3752264,
     "sourceId": 6492730,
     "sourceType": "datasetVersion"
    }
   ],
   "dockerImageVersionId": 30587,
   "isGpuEnabled": false,
   "isInternetEnabled": true,
   "language": "python",
   "sourceType": "notebook"
  },
  "kernelspec": {
   "display_name": "Python 3",
   "language": "python",
   "name": "python3"
  },
  "language_info": {
   "codemirror_mode": {
    "name": "ipython",
    "version": 3
   },
   "file_extension": ".py",
   "mimetype": "text/x-python",
   "name": "python",
   "nbconvert_exporter": "python",
   "pygments_lexer": "ipython3",
   "version": "3.10.12"
  },
  "papermill": {
   "default_parameters": {},
   "duration": 294.7293,
   "end_time": "2023-11-25T21:13:37.395092",
   "environment_variables": {},
   "exception": null,
   "input_path": "__notebook__.ipynb",
   "output_path": "__notebook__.ipynb",
   "parameters": {},
   "start_time": "2023-11-25T21:08:42.665792",
   "version": "2.4.0"
  }
 },
 "nbformat": 4,
 "nbformat_minor": 5
}
